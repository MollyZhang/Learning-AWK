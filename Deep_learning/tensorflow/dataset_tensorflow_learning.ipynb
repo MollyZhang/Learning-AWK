{
 "cells": [
  {
   "cell_type": "code",
   "execution_count": 3,
   "metadata": {},
   "outputs": [],
   "source": [
    "import tensorflow as tf\n",
    "import pandas as pd\n",
    "import numpy as np\n",
    "import time\n",
    "\n",
    "import load_data"
   ]
  },
  {
   "cell_type": "code",
   "execution_count": 2,
   "metadata": {
    "collapsed": true
   },
   "outputs": [],
   "source": [
    "tcga = load_data.read_data_sets(\"./data/mRNA_lognorm_MinMaxScaled.csv\")"
   ]
  },
  {
   "cell_type": "markdown",
   "metadata": {},
   "source": [
    "### Python batching"
   ]
  },
  {
   "cell_type": "code",
   "execution_count": 34,
   "metadata": {
    "scrolled": false
   },
   "outputs": [
    {
     "name": "stdout",
     "output_type": "stream",
     "text": [
      "epoch completed 1\n",
      "epoch completed 2\n",
      "epoch completed 3\n",
      "epoch completed 4\n",
      "epoch completed 5\n",
      "epoch completed 6\n",
      "epoch completed 7\n",
      "epoch completed 8\n",
      "epoch completed 9\n",
      "epoch completed 10\n",
      "epoch completed 11\n",
      "time elapsed: 4.052863359451294 seconds\n"
     ]
    }
   ],
   "source": [
    "tcga.train.reset_epoch()\n",
    "\n",
    "t0 = time.time()\n",
    "\n",
    "epochs_completed = 0\n",
    "while tcga.train.epochs_completed <= 10:\n",
    "    batch_x, batch_y = tcga.train.next_batch(100)\n",
    "    y1 = batch_y[\"tissue\"]\n",
    "    y2 = batch_y[\"gender\"]\n",
    "    y3 = batch_y[\"tumor\"]\n",
    "    if tcga.train.epochs_completed > epochs_completed:\n",
    "        epochs_completed += 1\n",
    "        print(\"epoch completed\", tcga.train.epochs_completed) \n",
    "            \n",
    "print(\"time elapsed:\", time.time() - t0, \"seconds\")"
   ]
  },
  {
   "cell_type": "markdown",
   "metadata": {},
   "source": [
    "### Tensorflow Dataset"
   ]
  },
  {
   "cell_type": "code",
   "execution_count": 53,
   "metadata": {
    "collapsed": true
   },
   "outputs": [],
   "source": [
    "features_placeholder = tf.placeholder(tf.float32, tcga.train.X.shape)\n",
    "label_tissue_placeholder = tf.placeholder(tf.float32, tcga.train.y[\"tissue\"].shape)\n",
    "label_gender_placeholder = tf.placeholder(tf.float32, tcga.train.y[\"gender\"].shape)\n",
    "label_tumor_placeholder = tf.placeholder(tf.float32, tcga.train.y[\"tumor\"].shape)\n",
    "\n",
    "dataset = tf.data.Dataset.from_tensor_slices((features_placeholder, \n",
    "                                              label_tissue_placeholder,\n",
    "                                              label_gender_placeholder, \n",
    "                                              label_tumor_placeholder))\n",
    "dataset=dataset.repeat(10)\n",
    "dataset=dataset.batch(100)\n",
    "\n",
    "dataset = dataset.prefetch(10)\n",
    "\n",
    "iterator = dataset.make_initializable_iterator()\n",
    "next_element = iterator.get_next()\n",
    "\n",
    "sess = tf.Session()\n",
    "\n",
    "\n",
    "sess.run(iterator.initializer, feed_dict={features_placeholder: tcga.train.X,\n",
    "                                          label_tissue_placeholder: tcga.train.y[\"tissue\"],\n",
    "                                          label_gender_placeholder: tcga.train.y[\"gender\"],\n",
    "                                          label_tumor_placeholder: tcga.train.y[\"tumor\"],})"
   ]
  },
  {
   "cell_type": "code",
   "execution_count": 54,
   "metadata": {},
   "outputs": [
    {
     "name": "stdout",
     "output_type": "stream",
     "text": [
      "time elapsed: 3.224940299987793 seconds\n"
     ]
    }
   ],
   "source": [
    "t0 = time.time()\n",
    "for i in range(1000000):\n",
    "    try:\n",
    "        x, y1, y2, y3 = sess.run(next_element)\n",
    "    except tf.errors.OutOfRangeError:\n",
    "        break\n",
    "        \n",
    "print(\"time elapsed:\", time.time() - t0, \"seconds\")"
   ]
  },
  {
   "cell_type": "code",
   "execution_count": null,
   "metadata": {
    "collapsed": true
   },
   "outputs": [],
   "source": []
  }
 ],
 "metadata": {
  "kernelspec": {
   "display_name": "Python 3",
   "language": "python",
   "name": "python3"
  },
  "language_info": {
   "codemirror_mode": {
    "name": "ipython",
    "version": 3
   },
   "file_extension": ".py",
   "mimetype": "text/x-python",
   "name": "python",
   "nbconvert_exporter": "python",
   "pygments_lexer": "ipython3",
   "version": "3.6.2"
  }
 },
 "nbformat": 4,
 "nbformat_minor": 2
}
