{
 "cells": [
  {
   "cell_type": "code",
   "execution_count": 2,
   "metadata": {},
   "outputs": [],
   "source": [
    "import tensorflow as tf\n",
    "import pandas as pd\n",
    "import numpy as np\n",
    "import time\n",
    "import datetime"
   ]
  },
  {
   "cell_type": "code",
   "execution_count": 40,
   "metadata": {
    "collapsed": true
   },
   "outputs": [],
   "source": [
    "m = 20\n",
    "a = np.random.randn(m, 2)\n",
    "b = np.random.randn(m, 2) * 100\n",
    "c = np.random.randn(m, 2) * 0.001"
   ]
  },
  {
   "cell_type": "code",
   "execution_count": 41,
   "metadata": {},
   "outputs": [],
   "source": [
    "dataset = tf.data.Dataset.from_tensor_slices({\"a\": a, \"b\": b, \"c\":c})\n",
    "dataset = dataset.repeat(1)\n",
    "dataset = dataset.batch(5)\n",
    "iterator = dataset.make_initializable_iterator()\n",
    "next_batch = iterator.get_next()"
   ]
  },
  {
   "cell_type": "code",
   "execution_count": 46,
   "metadata": {
    "collapsed": true
   },
   "outputs": [],
   "source": [
    "## iterator is advanced whenever sess.run() is called on it"
   ]
  },
  {
   "cell_type": "code",
   "execution_count": 47,
   "metadata": {
    "scrolled": false
   },
   "outputs": [
    {
     "name": "stdout",
     "output_type": "stream",
     "text": [
      "i:  0\n",
      "[[ 1.78794501 -0.41460296]\n",
      " [ 0.5528595  -0.12695846]\n",
      " [ 0.35435563 -0.80341999]\n",
      " [ 0.86121158  2.19926659]\n",
      " [ 2.6525493  -0.63460376]]\n",
      "{'b': array([[ 315.8055153 ,  -82.7234021 ],\n",
      "       [ 106.79660759,  -48.85730092],\n",
      "       [ -95.16739103,  -39.05558219],\n",
      "       [-140.79053785,    7.24683875],\n",
      "       [ -36.24221414,  -43.93847438]]), 'c': array([[ -1.15392005e-03,  -3.76906677e-04],\n",
      "       [  3.66250766e-04,   1.53676713e-03],\n",
      "       [ -1.78032343e-03,   3.59832914e-05],\n",
      "       [ -1.27896932e-03,   1.56755430e-04],\n",
      "       [  1.70764835e-04,   5.32809253e-04]])}\n",
      "i:  1\n",
      "[[ 3.01067875 -0.03355944]\n",
      " [ 0.15394903  0.40401082]\n",
      " [-0.22767772 -0.49836631]\n",
      " [-1.13621344 -0.45566573]\n",
      " [-0.71521742 -0.20039642]]\n",
      "{'b': array([[  34.5076925 , -192.72538223],\n",
      "       [ 140.94142407, -170.06387129],\n",
      "       [  43.98451253,    6.79529106],\n",
      "       [  14.5773293 ,   45.12587297],\n",
      "       [ -86.25247966, -124.04566488]]), 'c': array([[  9.54403893e-04,   1.82291495e-04],\n",
      "       [  2.04048472e-03,  -5.59424767e-04],\n",
      "       [ -4.54897706e-05,  -1.01965875e-03],\n",
      "       [ -7.66043655e-04,   4.50248367e-04],\n",
      "       [  8.28981526e-04,   1.08811838e-03]])}\n",
      "i:  2\n",
      "[[ 1.19775112 -0.16104114]\n",
      " [-0.10498127 -0.78411227]\n",
      " [-0.35177427 -0.70731645]\n",
      " [-2.63737234 -0.1238914 ]\n",
      " [-1.04266271 -0.10270574]]\n",
      "{'b': array([[  41.00904547,  127.19425661],\n",
      "       [ 142.51206572,  113.34286341],\n",
      "       [ -54.56543356,  -44.11573924],\n",
      "       [ 103.09432331,  161.51771249],\n",
      "       [  44.68872083,   61.90019318]]), 'c': array([[ 0.00160628,  0.00138068],\n",
      "       [ 0.00064149,  0.00035895],\n",
      "       [ 0.00066552, -0.00044803],\n",
      "       [-0.00112921, -0.00047972],\n",
      "       [ 0.00032729, -0.00024174]])}\n",
      "i:  3\n",
      "[[ 1.04375005  2.18227383]\n",
      " [ 0.71585422 -0.5558673 ]\n",
      " [ 0.68166484 -0.05226137]\n",
      " [-1.18014171  0.46398205]\n",
      " [ 2.14392178  2.41989603]]\n",
      "{'b': array([[-149.12361882,  148.54281292],\n",
      "       [  15.77264393,  -36.02076013],\n",
      "       [ -98.57672141,  -83.72105027],\n",
      "       [ 271.6309667 ,    2.28309173],\n",
      "       [ -18.88337329,  -26.79146087]]), 'c': array([[ -9.46646658e-04,  -2.22619166e-03],\n",
      "       [ -2.05051030e-05,   2.36384420e-03],\n",
      "       [ -8.35521999e-04,  -7.79713917e-04],\n",
      "       [  3.24820308e-04,   4.93556324e-04],\n",
      "       [ -8.56156880e-04,  -2.44073786e-04]])}\n",
      "i:  4\n"
     ]
    }
   ],
   "source": [
    "sess = tf.Session()\n",
    "sess.run(iterator.initializer)\n",
    "y_label = [\"b\", \"c\"]\n",
    "\n",
    "for i in range(100):\n",
    "    print(\"i: \", i)\n",
    "    try:\n",
    "        x = next_batch[\"a\"]\n",
    "        ys = {i: next_batch[i] for i in y_label}\n",
    "        this_x, this_ys = sess.run([x, ys])\n",
    "        print(this_x)\n",
    "        print(this_ys)\n",
    "    except tf.errors.OutOfRangeError:\n",
    "        break\n",
    "sess.close()"
   ]
  },
  {
   "cell_type": "code",
   "execution_count": null,
   "metadata": {
    "collapsed": true
   },
   "outputs": [],
   "source": []
  },
  {
   "cell_type": "code",
   "execution_count": null,
   "metadata": {
    "collapsed": true
   },
   "outputs": [],
   "source": []
  }
 ],
 "metadata": {
  "kernelspec": {
   "display_name": "Python 3",
   "language": "python",
   "name": "python3"
  },
  "language_info": {
   "codemirror_mode": {
    "name": "ipython",
    "version": 3
   },
   "file_extension": ".py",
   "mimetype": "text/x-python",
   "name": "python",
   "nbconvert_exporter": "python",
   "pygments_lexer": "ipython3",
   "version": "3.6.2"
  }
 },
 "nbformat": 4,
 "nbformat_minor": 2
}
