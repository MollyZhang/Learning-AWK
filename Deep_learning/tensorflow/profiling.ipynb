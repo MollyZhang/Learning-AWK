{
 "cells": [
  {
   "cell_type": "code",
   "execution_count": 2,
   "metadata": {},
   "outputs": [],
   "source": [
    "import tensorflow as tf\n",
    "from tensorflow.python.client import timeline"
   ]
  },
  {
   "cell_type": "markdown",
   "metadata": {},
   "source": [
    "### Example 1"
   ]
  },
  {
   "cell_type": "code",
   "execution_count": 3,
   "metadata": {
    "collapsed": true
   },
   "outputs": [],
   "source": [
    "a = tf.random_normal([2000, 5000])\n",
    "b = tf.random_normal([5000, 1000])\n",
    "res = tf.matmul(a, b)\n",
    "\n",
    "with tf.Session() as sess:\n",
    "    # add additional options to trace the session execution\n",
    "    options = tf.RunOptions(trace_level=tf.RunOptions.FULL_TRACE)\n",
    "    run_metadata = tf.RunMetadata()\n",
    "    sess.run(res, options=options, run_metadata=run_metadata)\n",
    "\n",
    "    # Create the Timeline object, and write it to a json file\n",
    "    fetched_timeline = timeline.Timeline(run_metadata.step_stats)\n",
    "    chrome_trace = fetched_timeline.generate_chrome_trace_format()\n",
    "    with open('./profiling_results/timeline_01.json', 'w') as f:\n",
    "        f.write(chrome_trace)"
   ]
  },
  {
   "cell_type": "markdown",
   "metadata": {},
   "source": [
    "### Example 2"
   ]
  },
  {
   "cell_type": "code",
   "execution_count": 4,
   "metadata": {
    "collapsed": true
   },
   "outputs": [],
   "source": [
    "import os\n",
    "import tempfile\n",
    "\n",
    "import tensorflow as tf\n",
    "from tensorflow.contrib.layers import fully_connected as fc\n",
    "from tensorflow.examples.tutorials.mnist import input_data\n",
    "from tensorflow.python.client import timeline"
   ]
  },
  {
   "cell_type": "code",
   "execution_count": 5,
   "metadata": {},
   "outputs": [
    {
     "name": "stdout",
     "output_type": "stream",
     "text": [
      "Successfully downloaded train-images-idx3-ubyte.gz 9912422 bytes.\n",
      "Extracting /tmp/MNIST_data/train-images-idx3-ubyte.gz\n",
      "Successfully downloaded train-labels-idx1-ubyte.gz 28881 bytes.\n",
      "Extracting /tmp/MNIST_data/train-labels-idx1-ubyte.gz\n",
      "Successfully downloaded t10k-images-idx3-ubyte.gz 1648877 bytes.\n",
      "Extracting /tmp/MNIST_data/t10k-images-idx3-ubyte.gz\n",
      "Successfully downloaded t10k-labels-idx1-ubyte.gz 4542 bytes.\n",
      "Extracting /tmp/MNIST_data/t10k-labels-idx1-ubyte.gz\n"
     ]
    }
   ],
   "source": [
    "batch_size = 100\n",
    "\n",
    "inputs = tf.placeholder(tf.float32, [batch_size, 784])\n",
    "targets = tf.placeholder(tf.float32, [batch_size, 10])\n",
    "\n",
    "with tf.variable_scope(\"layer_1\"):\n",
    "    fc_1_out = fc(inputs, num_outputs=500, activation_fn=tf.nn.sigmoid)\n",
    "with tf.variable_scope(\"layer_2\"):\n",
    "    fc_2_out = fc(fc_1_out, num_outputs=784, activation_fn=tf.nn.sigmoid)\n",
    "with tf.variable_scope(\"layer_3\"):\n",
    "    logits = fc(fc_2_out, num_outputs=10)\n",
    "\n",
    "loss = tf.reduce_mean(\n",
    "    tf.nn.softmax_cross_entropy_with_logits(logits=logits, labels=targets))\n",
    "train_op = tf.train.GradientDescentOptimizer(0.01).minimize(loss)\n",
    "\n",
    "mnist_save_dir = os.path.join(tempfile.gettempdir(), 'MNIST_data')\n",
    "mnist = input_data.read_data_sets(mnist_save_dir, one_hot=True)\n",
    "\n",
    "config = tf.ConfigProto()\n",
    "config.gpu_options.allow_growth = True\n",
    "with tf.Session(config=config) as sess:\n",
    "    sess.run(tf.global_variables_initializer())\n",
    "\n",
    "    options = tf.RunOptions(trace_level=tf.RunOptions.FULL_TRACE)\n",
    "    run_metadata = tf.RunMetadata()\n",
    "    for i in range(3):\n",
    "        batch_input, batch_target = mnist.train.next_batch(batch_size)\n",
    "        feed_dict = {inputs: batch_input,\n",
    "                     targets: batch_target}\n",
    "\n",
    "        sess.run(train_op,\n",
    "                 feed_dict=feed_dict,\n",
    "                 options=options,\n",
    "                 run_metadata=run_metadata)\n",
    "\n",
    "        fetched_timeline = timeline.Timeline(run_metadata.step_stats)\n",
    "        chrome_trace = fetched_timeline.generate_chrome_trace_format()\n",
    "        with open('./profiling_results/timeline_02_step_%d.json' % i, 'w') as f:\n",
    "            f.write(chrome_trace)"
   ]
  },
  {
   "cell_type": "code",
   "execution_count": null,
   "metadata": {
    "collapsed": true
   },
   "outputs": [],
   "source": []
  }
 ],
 "metadata": {
  "kernelspec": {
   "display_name": "Python 3",
   "language": "python",
   "name": "python3"
  },
  "language_info": {
   "codemirror_mode": {
    "name": "ipython",
    "version": 3
   },
   "file_extension": ".py",
   "mimetype": "text/x-python",
   "name": "python",
   "nbconvert_exporter": "python",
   "pygments_lexer": "ipython3",
   "version": "3.6.2"
  }
 },
 "nbformat": 4,
 "nbformat_minor": 2
}
