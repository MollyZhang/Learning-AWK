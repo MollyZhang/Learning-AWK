{
 "cells": [
  {
   "cell_type": "code",
   "execution_count": 2,
   "metadata": {},
   "outputs": [],
   "source": [
    "import tensorflow as tf\n",
    "import torch\n",
    "import numpy as np\n",
    "import pandas as pd\n",
    "import time"
   ]
  },
  {
   "cell_type": "markdown",
   "metadata": {},
   "source": [
    "### Numpy CPU speed"
   ]
  },
  {
   "cell_type": "code",
   "execution_count": 3,
   "metadata": {
    "collapsed": true
   },
   "outputs": [],
   "source": [
    "x = np.random.rand(8000, 5000)\n",
    "y = np.random.rand(5000, 7000)"
   ]
  },
  {
   "cell_type": "code",
   "execution_count": 4,
   "metadata": {},
   "outputs": [
    {
     "name": "stdout",
     "output_type": "stream",
     "text": [
      "6.807829856872559 seconds\n",
      "7.366937637329102 seconds\n",
      "7.002684116363525 seconds\n"
     ]
    }
   ],
   "source": [
    "for i in range(3):\n",
    "    t0 = time.time()\n",
    "    x.dot(y).shape\n",
    "    print(time.time()-t0, \"seconds\")"
   ]
  },
  {
   "cell_type": "markdown",
   "metadata": {},
   "source": [
    "### Pytorch CPU speed"
   ]
  },
  {
   "cell_type": "code",
   "execution_count": 5,
   "metadata": {
    "collapsed": true
   },
   "outputs": [],
   "source": [
    "x1 = torch.from_numpy(x)\n",
    "y1 = torch.from_numpy(y)"
   ]
  },
  {
   "cell_type": "code",
   "execution_count": 6,
   "metadata": {},
   "outputs": [
    {
     "name": "stdout",
     "output_type": "stream",
     "text": [
      "9.233326435089111 seconds\n",
      "8.2359139919281 seconds\n",
      "8.13319730758667 seconds\n"
     ]
    }
   ],
   "source": [
    "for i in range(3):\n",
    "    t0 = time.time()\n",
    "    torch.mm(x1, y1)\n",
    "    print(time.time()-t0, \"seconds\")"
   ]
  },
  {
   "cell_type": "markdown",
   "metadata": {},
   "source": [
    "### Pytorch GPU speed"
   ]
  },
  {
   "cell_type": "code",
   "execution_count": 7,
   "metadata": {},
   "outputs": [],
   "source": [
    "assert(torch.cuda.is_available())\n",
    "x2, y2 = x1.cuda(), y1.cuda()"
   ]
  },
  {
   "cell_type": "code",
   "execution_count": 10,
   "metadata": {},
   "outputs": [
    {
     "name": "stdout",
     "output_type": "stream",
     "text": [
      "0.0002684593200683594 seconds\n",
      "0.00012135505676269531 seconds\n",
      "0.00013136863708496094 seconds\n"
     ]
    }
   ],
   "source": [
    "for i in range(3):\n",
    "    t0 = time.time()\n",
    "    torch.mm(x2, y2)\n",
    "    print(time.time()-t0, \"seconds\")"
   ]
  },
  {
   "cell_type": "markdown",
   "metadata": {},
   "source": [
    "### Tensorflow CPU speed\n"
   ]
  },
  {
   "cell_type": "code",
   "execution_count": 24,
   "metadata": {},
   "outputs": [
    {
     "name": "stdout",
     "output_type": "stream",
     "text": [
      "2.7685954570770264 seconds\n",
      "2.637319564819336 seconds\n",
      "2.6333839893341064 seconds\n"
     ]
    }
   ],
   "source": [
    "with tf.device('/cpu:0'):\n",
    "    x3 = tf.placeholder(tf.float32, shape=x.shape)\n",
    "    y3 = tf.placeholder(tf.float32, shape=y.shape)\n",
    "    z = tf.matmul(x3, y3)\n",
    "    sess = tf.Session()\n",
    "    \n",
    "    for i in range(3):\n",
    "        t0 = time.time()\n",
    "        sess.run(z, feed_dict={x3:x, y3:y})\n",
    "        print(time.time()-t0, \"seconds\")"
   ]
  },
  {
   "cell_type": "markdown",
   "metadata": {},
   "source": [
    "### Tensorflow GPU speed"
   ]
  },
  {
   "cell_type": "code",
   "execution_count": 25,
   "metadata": {},
   "outputs": [
    {
     "name": "stdout",
     "output_type": "stream",
     "text": [
      "0.3415548801422119 seconds\n",
      "0.32378220558166504 seconds\n",
      "0.33935976028442383 seconds\n"
     ]
    }
   ],
   "source": [
    "with tf.device('/gpu:0'):\n",
    "    x3 = tf.placeholder(tf.float32, shape=x.shape)\n",
    "    y3 = tf.placeholder(tf.float32, shape=y.shape)\n",
    "    z = tf.matmul(x3, y3)\n",
    "    sess = tf.Session()\n",
    "    \n",
    "    for i in range(3):\n",
    "        t0 = time.time()\n",
    "        sess.run(z, feed_dict={x3:x, y3:y})\n",
    "        print(time.time()-t0, \"seconds\")"
   ]
  },
  {
   "cell_type": "code",
   "execution_count": null,
   "metadata": {
    "collapsed": true
   },
   "outputs": [],
   "source": []
  }
 ],
 "metadata": {
  "kernelspec": {
   "display_name": "Python 3",
   "language": "python",
   "name": "python3"
  },
  "language_info": {
   "codemirror_mode": {
    "name": "ipython",
    "version": 3
   },
   "file_extension": ".py",
   "mimetype": "text/x-python",
   "name": "python",
   "nbconvert_exporter": "python",
   "pygments_lexer": "ipython3",
   "version": "3.6.2"
  }
 },
 "nbformat": 4,
 "nbformat_minor": 2
}
