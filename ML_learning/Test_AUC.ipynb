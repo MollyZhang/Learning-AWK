{
 "cells": [
  {
   "cell_type": "code",
   "execution_count": 42,
   "metadata": {
    "collapsed": false
   },
   "outputs": [],
   "source": [
    "import numpy as np\n",
    "from sklearn.metrics import roc_auc_score, precision_recall_curve, auc, roc_curve\n",
    "from matplotlib import pyplot as plt\n",
    "\n",
    "%matplotlib inline"
   ]
  },
  {
   "cell_type": "code",
   "execution_count": 66,
   "metadata": {
    "collapsed": false,
    "scrolled": false
   },
   "outputs": [
    {
     "data": {
      "image/png": "[encoded data removed]",
      "text/plain": [
       "<matplotlib.figure.Figure at 0x112342ba8>"
      ]
     },
     "metadata": {},
     "output_type": "display_data"
    },
    {
     "name": "stdout",
     "output_type": "stream",
     "text": [
      "roc auc 0.9933333333333334\n",
      "[(1.0, 0.4), (0.9, 0.375), (0.9, 0.391304347826087), (0.9, 0.4090909090909091), (0.8, 0.38095238095238093), (0.8, 0.4), (0.8, 0.42105263157894735), (0.7, 0.3888888888888889), (0.7, 0.4117647058823529), (0.7, 0.4375), (0.6, 0.4), (0.6, 0.42857142857142855), (0.5, 0.38461538461538464), (0.5, 0.4166666666666667), (0.5, 0.45454545454545453), (0.5, 0.5), (0.5, 0.5555555555555556), (0.5, 0.625), (0.4, 0.5714285714285714), (0.3, 0.5), (0.3, 0.6), (0.2, 0.5), (0.1, 0.3333333333333333), (0.1, 0.5), (0.1, 1.0), (0.0, 1.0)]\n"
     ]
    },
    {
     "data": {
      "image/png": "[encoded data removed]",
      "text/plain": [
       "<matplotlib.figure.Figure at 0x1129cf470>"
      ]
     },
     "metadata": {},
     "output_type": "display_data"
    },
    {
     "name": "stdout",
     "output_type": "stream",
     "text": [
      "pr auc 0.5113431049944207\n"
     ]
    }
   ],
   "source": [
    "for i in range(10):\n",
    "    actual_class = [0] * 990 + [1] * 10\n",
    "    predicted_neg_scores = np.random.uniform(low=0, high=0.5, size=975)\n",
    "     classifier_score = list(predicted_neg_scores) + list(predicted_pos_scores)\n",
    "    fpr, tpr, ts = roc_curve(actual_class, classifier_score)    \n",
    "    plt.plot(fpr, tpr)\n",
    "    plt.title(\"ROC curve\")\n",
    "    plt.show()\n",
    "    print(\"roc auc\", auc(fpr, tpr, reorder=True))\n",
    "    precisions, recalls, thresholds = precision_recall_curve(actual_class, classifier_score)    \n",
    "    print(list(zip(recalls, precisions)))\n",
    "    plt.plot(recalls, precisions)\n",
    "    plt.title(\"PR curve\")\n",
    "    plt.show()\n",
    "    print(\"pr auc\", auc(recalls, precisions, reorder=True))\n",
    "    \n",
    "    break"
   ]
  },
  {
   "cell_type": "code",
   "execution_count": null,
   "metadata": {
    "collapsed": false
   },
   "outputs": [],
   "source": []
  },
  {
   "cell_type": "code",
   "execution_count": 10,
   "metadata": {
    "collapsed": false
   },
   "outputs": [],
   "source": []
  },
  {
   "cell_type": "code",
   "execution_count": null,
   "metadata": {
    "collapsed": true
   },
   "outputs": [],
   "source": []
  }
 ],
 "metadata": {
  "kernelspec": {
   "display_name": "Python 3",
   "language": "python",
   "name": "python3"
  },
  "language_info": {
   "codemirror_mode": {
    "name": "ipython",
    "version": 3
   },
   "file_extension": ".py",
   "mimetype": "text/x-python",
   "name": "python",
   "nbconvert_exporter": "python",
   "pygments_lexer": "ipython3",
   "version": "3.6.0"
  }
 },
 "nbformat": 4,
 "nbformat_minor": 2
}
