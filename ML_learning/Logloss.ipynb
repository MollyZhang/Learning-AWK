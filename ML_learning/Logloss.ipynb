{
 "cells": [
  {
   "cell_type": "code",
   "execution_count": 10,
   "metadata": {
    "collapsed": true
   },
   "outputs": [],
   "source": [
    "import numpy as np\n",
    "from sklearn.metrics import log_loss"
   ]
  },
  {
   "cell_type": "markdown",
   "metadata": {},
   "source": [
    "### 1. Implement log loss for binary classification"
   ]
  },
  {
   "cell_type": "code",
   "execution_count": 59,
   "metadata": {
    "collapsed": true
   },
   "outputs": [],
   "source": [
    "y_true = [0,0,1,1,1]\n",
    "y_predict = [[0.99999, 0.00001], [0.8, 0.2], [0.1,0.9],[0.4,0.6],[0.2,0.8]]\n",
    "y_predict1 = [0.00001, 0.2, 0.9, 0.6, 0.8]"
   ]
  },
  {
   "cell_type": "code",
   "execution_count": 65,
   "metadata": {
    "collapsed": false
   },
   "outputs": [
    {
     "name": "stdout",
     "output_type": "stream",
     "text": [
      "yi 0\n",
      "pi 1e-05\n",
      "inner_loss -1.00000500003e-05\n",
      "yi 0\n",
      "pi 0.2\n",
      "inner_loss -0.223143551314\n",
      "yi 1\n",
      "pi 0.9\n",
      "inner_loss -0.105360515658\n",
      "yi 1\n",
      "pi 0.6\n",
      "inner_loss -0.510825623766\n",
      "yi 1\n",
      "pi 0.8\n",
      "inner_loss -0.223143551314\n",
      "sum_loss -1.0624832421\n",
      "final loss 0.21249664842\n"
     ]
    }
   ],
   "source": [
    "def inner_logloss(yi, pi):\n",
    "    return yi*np.log(pi) + (1-yi)*np.log(1-pi)\n",
    "\n",
    "sum_loss = 0\n",
    "for i, yt in enumerate(y_true):\n",
    "    print(\"yi\", yt)\n",
    "    print(\"pi\", y_predict[i][1])\n",
    "    this_loss = inner_logloss(yt, y_predict[i][1])\n",
    "    print(\"inner_loss\", this_loss)\n",
    "    sum_loss += this_loss\n",
    "print(\"sum_loss\", sum_loss)\n",
    "logloss_M = -sum_loss/len(y_true)\n",
    "print(\"final loss\", logloss_M)"
   ]
  },
  {
   "cell_type": "markdown",
   "metadata": {},
   "source": [
    "### 2. Implement log loss for multi-class classification\n"
   ]
  },
  {
   "cell_type": "code",
   "execution_count": 69,
   "metadata": {
    "collapsed": true
   },
   "outputs": [],
   "source": [
    "y_true = [0,2,2,1]\n",
    "y_predict = [[0.998, 0.001, 0.001], \n",
    "             [0.8, 0.2], [0.1,0.9],[0.4,0.6],[0.2,0.8]]\n",
    "y_predict1 = [0.00001, 0.2, 0.9, 0.6, 0.8]"
   ]
  },
  {
   "cell_type": "markdown",
   "metadata": {},
   "source": [
    "### 3 Compare my implemention to sklearn implementation"
   ]
  },
  {
   "cell_type": "code",
   "execution_count": 67,
   "metadata": {
    "collapsed": false
   },
   "outputs": [
    {
     "name": "stdout",
     "output_type": "stream",
     "text": [
      "Molly:  0.21249664842\n",
      "sklearn:  0.21249664842\n"
     ]
    }
   ],
   "source": [
    "print(\"Molly: \", logloss_M)\n",
    "print(\"sklearn: \", log_loss(y_true, y_predict))"
   ]
  },
  {
   "cell_type": "markdown",
   "metadata": {},
   "source": [
    "### 3. Compare Logloss to AUC in unbalanced dataset"
   ]
  },
  {
   "cell_type": "code",
   "execution_count": null,
   "metadata": {
    "collapsed": true
   },
   "outputs": [],
   "source": []
  }
 ],
 "metadata": {
  "kernelspec": {
   "display_name": "Python 3",
   "language": "python",
   "name": "python3"
  },
  "language_info": {
   "codemirror_mode": {
    "name": "ipython",
    "version": 3
   },
   "file_extension": ".py",
   "mimetype": "text/x-python",
   "name": "python",
   "nbconvert_exporter": "python",
   "pygments_lexer": "ipython3",
   "version": "3.6.0"
  }
 },
 "nbformat": 4,
 "nbformat_minor": 2
}
