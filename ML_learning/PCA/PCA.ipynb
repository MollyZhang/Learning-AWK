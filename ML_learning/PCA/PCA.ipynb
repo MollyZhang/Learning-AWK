{
 "cells": [
  {
   "cell_type": "markdown",
   "metadata": {},
   "source": [
    "### Standard Dimension Reduction\n",
    "in an n x m matrix where m < n"
   ]
  },
  {
   "cell_type": "code",
   "execution_count": 135,
   "metadata": {},
   "outputs": [
    {
     "data": {
      "text/html": [
       "\n",
       "    <div class=\"bk-root\">\n",
       "        <a href=\"https://bokeh.pydata.org\" target=\"_blank\" class=\"bk-logo bk-logo-small bk-logo-notebook\"></a>\n",
       "        <span id=\"3b8d7b83-7b44-41a3-87ec-4d94318b5eb4\">Loading BokehJS ...</span>\n",
       "    </div>"
      ]
     },
     "metadata": {},
     "output_type": "display_data"
    },
    {
     "data": {
      "application/javascript": [
       "\n",
       "(function(root) {\n",
       "  function now() {\n",
       "    return new Date();\n",
       "  }\n",
       "\n",
       "  var force = true;\n",
       "\n",
       "  if (typeof (root._bokeh_onload_callbacks) === \"undefined\" || force === true) {\n",
       "    root._bokeh_onload_callbacks = [];\n",
       "    root._bokeh_is_loading = undefined;\n",
       "  }\n",
       "\n",
       "\n",
       "  \n",
       "  if (typeof (root._bokeh_timeout) === \"undefined\" || force === true) {\n",
       "    root._bokeh_timeout = Date.now() + 5000;\n",
       "    root._bokeh_failed_load = false;\n",
       "  }\n",
       "\n",
       "  var NB_LOAD_WARNING = {'data': {'text/html':\n",
       "     \"<div style='background-color: #fdd'>\\n\"+\n",
       "     \"<p>\\n\"+\n",
       "     \"BokehJS does not appear to have successfully loaded. If loading BokehJS from CDN, this \\n\"+\n",
       "     \"may be due to a slow or bad network connection. Possible fixes:\\n\"+\n",
       "     \"</p>\\n\"+\n",
       "     \"<ul>\\n\"+\n",
       "     \"<li>re-rerun `output_notebook()` to attempt to load from CDN again, or</li>\\n\"+\n",
       "     \"<li>use INLINE resources instead, as so:</li>\\n\"+\n",
       "     \"</ul>\\n\"+\n",
       "     \"<code>\\n\"+\n",
       "     \"from bokeh.resources import INLINE\\n\"+\n",
       "     \"output_notebook(resources=INLINE)\\n\"+\n",
       "     \"</code>\\n\"+\n",
       "     \"</div>\"}};\n",
       "\n",
       "  function display_loaded() {\n",
       "    if (root.Bokeh !== undefined) {\n",
       "      var el = document.getElementById(\"3b8d7b83-7b44-41a3-87ec-4d94318b5eb4\");\n",
       "      if (el != null) {\n",
       "        el.textContent = \"BokehJS \" + Bokeh.version + \" successfully loaded.\";\n",
       "      }\n",
       "    } else if (Date.now() < root._bokeh_timeout) {\n",
       "      setTimeout(display_loaded, 100)\n",
       "    }\n",
       "  }\n",
       "\n",
       "\n",
       "  function run_callbacks() {\n",
       "    try {\n",
       "      root._bokeh_onload_callbacks.forEach(function(callback) { callback() });\n",
       "    }\n",
       "    finally {\n",
       "      delete root._bokeh_onload_callbacks\n",
       "    }\n",
       "    console.info(\"Bokeh: all callbacks have finished\");\n",
       "  }\n",
       "\n",
       "  function load_libs(js_urls, callback) {\n",
       "    root._bokeh_onload_callbacks.push(callback);\n",
       "    if (root._bokeh_is_loading > 0) {\n",
       "      console.log(\"Bokeh: BokehJS is being loaded, scheduling callback at\", now());\n",
       "      return null;\n",
       "    }\n",
       "    if (js_urls == null || js_urls.length === 0) {\n",
       "      run_callbacks();\n",
       "      return null;\n",
       "    }\n",
       "    console.log(\"Bokeh: BokehJS not loaded, scheduling load and callback at\", now());\n",
       "    root._bokeh_is_loading = js_urls.length;\n",
       "    for (var i = 0; i < js_urls.length; i++) {\n",
       "      var url = js_urls[i];\n",
       "      var s = document.createElement('script');\n",
       "      s.src = url;\n",
       "      s.async = false;\n",
       "      s.onreadystatechange = s.onload = function() {\n",
       "        root._bokeh_is_loading--;\n",
       "        if (root._bokeh_is_loading === 0) {\n",
       "          console.log(\"Bokeh: all BokehJS libraries loaded\");\n",
       "          run_callbacks()\n",
       "        }\n",
       "      };\n",
       "      s.onerror = function() {\n",
       "        console.warn(\"failed to load library \" + url);\n",
       "      };\n",
       "      console.log(\"Bokeh: injecting script tag for BokehJS library: \", url);\n",
       "      document.getElementsByTagName(\"head\")[0].appendChild(s);\n",
       "    }\n",
       "  };var element = document.getElementById(\"3b8d7b83-7b44-41a3-87ec-4d94318b5eb4\");\n",
       "  if (element == null) {\n",
       "    console.log(\"Bokeh: ERROR: autoload.js configured with elementid '3b8d7b83-7b44-41a3-87ec-4d94318b5eb4' but no matching script tag was found. \")\n",
       "    return false;\n",
       "  }\n",
       "\n",
       "  var js_urls = [\"https://cdn.pydata.org/bokeh/release/bokeh-0.12.7.min.js\", \"https://cdn.pydata.org/bokeh/release/bokeh-widgets-0.12.7.min.js\", \"https://cdn.pydata.org/bokeh/release/bokeh-tables-0.12.7.min.js\", \"https://cdn.pydata.org/bokeh/release/bokeh-gl-0.12.7.min.js\"];\n",
       "\n",
       "  var inline_js = [\n",
       "    function(Bokeh) {\n",
       "      Bokeh.set_log_level(\"info\");\n",
       "    },\n",
       "    \n",
       "    function(Bokeh) {\n",
       "      \n",
       "    },\n",
       "    \n",
       "    function(Bokeh) {\n",
       "      \n",
       "      document.getElementById(\"3b8d7b83-7b44-41a3-87ec-4d94318b5eb4\").textContent = \"BokehJS is loading...\";\n",
       "    },\n",
       "    function(Bokeh) {\n",
       "      console.log(\"Bokeh: injecting CSS: https://cdn.pydata.org/bokeh/release/bokeh-0.12.7.min.css\");\n",
       "      Bokeh.embed.inject_css(\"https://cdn.pydata.org/bokeh/release/bokeh-0.12.7.min.css\");\n",
       "      console.log(\"Bokeh: injecting CSS: https://cdn.pydata.org/bokeh/release/bokeh-widgets-0.12.7.min.css\");\n",
       "      Bokeh.embed.inject_css(\"https://cdn.pydata.org/bokeh/release/bokeh-widgets-0.12.7.min.css\");\n",
       "      console.log(\"Bokeh: injecting CSS: https://cdn.pydata.org/bokeh/release/bokeh-tables-0.12.7.min.css\");\n",
       "      Bokeh.embed.inject_css(\"https://cdn.pydata.org/bokeh/release/bokeh-tables-0.12.7.min.css\");\n",
       "    }\n",
       "  ];\n",
       "\n",
       "  function run_inline_js() {\n",
       "    \n",
       "    if ((root.Bokeh !== undefined) || (force === true)) {\n",
       "      for (var i = 0; i < inline_js.length; i++) {\n",
       "        inline_js[i].call(root, root.Bokeh);\n",
       "      }if (force === true) {\n",
       "        display_loaded();\n",
       "      }} else if (Date.now() < root._bokeh_timeout) {\n",
       "      setTimeout(run_inline_js, 100);\n",
       "    } else if (!root._bokeh_failed_load) {\n",
       "      console.log(\"Bokeh: BokehJS failed to load within specified timeout.\");\n",
       "      root._bokeh_failed_load = true;\n",
       "    } else if (force !== true) {\n",
       "      var cell = $(document.getElementById(\"3b8d7b83-7b44-41a3-87ec-4d94318b5eb4\")).parents('.cell').data().cell;\n",
       "      cell.output_area.append_execute_result(NB_LOAD_WARNING)\n",
       "    }\n",
       "\n",
       "  }\n",
       "\n",
       "  if (root._bokeh_is_loading === 0) {\n",
       "    console.log(\"Bokeh: BokehJS loaded, going straight to plotting\");\n",
       "    run_inline_js();\n",
       "  } else {\n",
       "    load_libs(js_urls, function() {\n",
       "      console.log(\"Bokeh: BokehJS plotting callback run at\", now());\n",
       "      run_inline_js();\n",
       "    });\n",
       "  }\n",
       "}(window));"
      ]
     },
     "metadata": {},
     "output_type": "display_data"
    }
   ],
   "source": [
    "from sklearn.decomposition import PCA\n",
    "from sklearn.preprocessing import MinMaxScaler, StandardScaler, MaxAbsScaler\n",
    "import pandas as pd\n",
    "import numpy as np\n",
    "from bokeh.io import output_notebook\n",
    "from bokeh.plotting import figure, show\n",
    "\n",
    "output_notebook()"
   ]
  },
  {
   "cell_type": "code",
   "execution_count": 7,
   "metadata": {},
   "outputs": [
    {
     "data": {
      "text/html": [
       "\n",
       "\n",
       "    <div class=\"bk-root\">\n",
       "        <div class=\"bk-plotdiv\" id=\"96ed1402-c641-4559-b740-2969b6911c43\"></div>\n",
       "    </div>\n",
       "<script type=\"text/javascript\">\n",
       "  \n",
       "  (function(root) {\n",
       "    function now() {\n",
       "      return new Date();\n",
       "    }\n",
       "  \n",
       "    var force = false;\n",
       "  \n",
       "    if (typeof (root._bokeh_onload_callbacks) === \"undefined\" || force === true) {\n",
       "      root._bokeh_onload_callbacks = [];\n",
       "      root._bokeh_is_loading = undefined;\n",
       "    }\n",
       "  \n",
       "  \n",
       "    \n",
       "    if (typeof (root._bokeh_timeout) === \"undefined\" || force === true) {\n",
       "      root._bokeh_timeout = Date.now() + 0;\n",
       "      root._bokeh_failed_load = false;\n",
       "    }\n",
       "  \n",
       "    var NB_LOAD_WARNING = {'data': {'text/html':\n",
       "       \"<div style='background-color: #fdd'>\\n\"+\n",
       "       \"<p>\\n\"+\n",
       "       \"BokehJS does not appear to have successfully loaded. If loading BokehJS from CDN, this \\n\"+\n",
       "       \"may be due to a slow or bad network connection. Possible fixes:\\n\"+\n",
       "       \"</p>\\n\"+\n",
       "       \"<ul>\\n\"+\n",
       "       \"<li>re-rerun `output_notebook()` to attempt to load from CDN again, or</li>\\n\"+\n",
       "       \"<li>use INLINE resources instead, as so:</li>\\n\"+\n",
       "       \"</ul>\\n\"+\n",
       "       \"<code>\\n\"+\n",
       "       \"from bokeh.resources import INLINE\\n\"+\n",
       "       \"output_notebook(resources=INLINE)\\n\"+\n",
       "       \"</code>\\n\"+\n",
       "       \"</div>\"}};\n",
       "  \n",
       "    function display_loaded() {\n",
       "      if (root.Bokeh !== undefined) {\n",
       "        var el = document.getElementById(\"96ed1402-c641-4559-b740-2969b6911c43\");\n",
       "        if (el != null) {\n",
       "          el.textContent = \"BokehJS \" + Bokeh.version + \" successfully loaded.\";\n",
       "        }\n",
       "      } else if (Date.now() < root._bokeh_timeout) {\n",
       "        setTimeout(display_loaded, 100)\n",
       "      }\n",
       "    }\n",
       "  \n",
       "  \n",
       "    function run_callbacks() {\n",
       "      try {\n",
       "        root._bokeh_onload_callbacks.forEach(function(callback) { callback() });\n",
       "      }\n",
       "      finally {\n",
       "        delete root._bokeh_onload_callbacks\n",
       "      }\n",
       "      console.info(\"Bokeh: all callbacks have finished\");\n",
       "    }\n",
       "  \n",
       "    function load_libs(js_urls, callback) {\n",
       "      root._bokeh_onload_callbacks.push(callback);\n",
       "      if (root._bokeh_is_loading > 0) {\n",
       "        console.log(\"Bokeh: BokehJS is being loaded, scheduling callback at\", now());\n",
       "        return null;\n",
       "      }\n",
       "      if (js_urls == null || js_urls.length === 0) {\n",
       "        run_callbacks();\n",
       "        return null;\n",
       "      }\n",
       "      console.log(\"Bokeh: BokehJS not loaded, scheduling load and callback at\", now());\n",
       "      root._bokeh_is_loading = js_urls.length;\n",
       "      for (var i = 0; i < js_urls.length; i++) {\n",
       "        var url = js_urls[i];\n",
       "        var s = document.createElement('script');\n",
       "        s.src = url;\n",
       "        s.async = false;\n",
       "        s.onreadystatechange = s.onload = function() {\n",
       "          root._bokeh_is_loading--;\n",
       "          if (root._bokeh_is_loading === 0) {\n",
       "            console.log(\"Bokeh: all BokehJS libraries loaded\");\n",
       "            run_callbacks()\n",
       "          }\n",
       "        };\n",
       "        s.onerror = function() {\n",
       "          console.warn(\"failed to load library \" + url);\n",
       "        };\n",
       "        console.log(\"Bokeh: injecting script tag for BokehJS library: \", url);\n",
       "        document.getElementsByTagName(\"head\")[0].appendChild(s);\n",
       "      }\n",
       "    };var element = document.getElementById(\"96ed1402-c641-4559-b740-2969b6911c43\");\n",
       "    if (element == null) {\n",
       "      console.log(\"Bokeh: ERROR: autoload.js configured with elementid '96ed1402-c641-4559-b740-2969b6911c43' but no matching script tag was found. \")\n",
       "      return false;\n",
       "    }\n",
       "  \n",
       "    var js_urls = [];\n",
       "  \n",
       "    var inline_js = [\n",
       "      function(Bokeh) {\n",
       "        (function() {\n",
       "          var fn = function() {\n",
       "            var docs_json = {\"e369b0f5-9f8b-484d-91d5-7a38ad6ec2e8\":{\"roots\":{\"references\":[{\"attributes\":{\"formatter\":{\"id\":\"f4a5e4f1-909b-4f96-a35f-56a6f8d147df\",\"type\":\"BasicTickFormatter\"},\"plot\":{\"id\":\"db91aeda-5619-40d8-9982-6b3f612b0332\",\"subtype\":\"Figure\",\"type\":\"Plot\"},\"ticker\":{\"id\":\"df5df330-71e5-4353-83cd-54b877c7b5f4\",\"type\":\"BasicTicker\"}},\"id\":\"fc0ddd7d-75b0-4b5d-9fdb-24a660ca75b5\",\"type\":\"LinearAxis\"},{\"attributes\":{\"plot\":{\"id\":\"db91aeda-5619-40d8-9982-6b3f612b0332\",\"subtype\":\"Figure\",\"type\":\"Plot\"},\"ticker\":{\"id\":\"df5df330-71e5-4353-83cd-54b877c7b5f4\",\"type\":\"BasicTicker\"}},\"id\":\"3183ac77-384a-4f0f-939f-3742dd5fccce\",\"type\":\"Grid\"},{\"attributes\":{\"below\":[{\"id\":\"fc0ddd7d-75b0-4b5d-9fdb-24a660ca75b5\",\"type\":\"LinearAxis\"}],\"left\":[{\"id\":\"6b4d52e9-ff81-4f22-948a-29665e2fc161\",\"type\":\"LinearAxis\"}],\"plot_height\":200,\"plot_width\":300,\"renderers\":[{\"id\":\"fc0ddd7d-75b0-4b5d-9fdb-24a660ca75b5\",\"type\":\"LinearAxis\"},{\"id\":\"3183ac77-384a-4f0f-939f-3742dd5fccce\",\"type\":\"Grid\"},{\"id\":\"6b4d52e9-ff81-4f22-948a-29665e2fc161\",\"type\":\"LinearAxis\"},{\"id\":\"8102c2cd-a4c1-4047-915d-4a745f0a7978\",\"type\":\"Grid\"},{\"id\":\"e9e37516-224a-48f5-a3b7-9c1cdb76ac2d\",\"type\":\"BoxAnnotation\"},{\"id\":\"7823244b-18dd-457c-a4f3-168971c169fe\",\"type\":\"GlyphRenderer\"}],\"title\":{\"id\":\"60d42530-b77b-45fd-9fac-1919a66eaa8b\",\"type\":\"Title\"},\"toolbar\":{\"id\":\"18daeece-4fdc-4e6e-9169-119adcb50d70\",\"type\":\"Toolbar\"},\"x_range\":{\"id\":\"4b010d4d-7c4b-4f8e-b5f8-886bc98f1810\",\"type\":\"DataRange1d\"},\"x_scale\":{\"id\":\"d4118869-527f-4976-97c8-bb301414fe33\",\"type\":\"LinearScale\"},\"y_range\":{\"id\":\"4fd40daf-a45a-4e64-9c3d-c8e199560e90\",\"type\":\"DataRange1d\"},\"y_scale\":{\"id\":\"b3dcc71f-1058-49da-a8dd-75c2725c2893\",\"type\":\"LinearScale\"}},\"id\":\"db91aeda-5619-40d8-9982-6b3f612b0332\",\"subtype\":\"Figure\",\"type\":\"Plot\"},{\"attributes\":{},\"id\":\"ef181d83-8f03-43f0-905f-8c09217873c9\",\"type\":\"BasicTicker\"},{\"attributes\":{\"source\":{\"id\":\"59b1a57e-20d5-46c2-85e9-84c82272a9de\",\"type\":\"ColumnDataSource\"}},\"id\":\"ceff0d47-234d-4391-91e1-7953bf082f2e\",\"type\":\"CDSView\"},{\"attributes\":{\"data_source\":{\"id\":\"59b1a57e-20d5-46c2-85e9-84c82272a9de\",\"type\":\"ColumnDataSource\"},\"glyph\":{\"id\":\"d4407ae7-5ed7-4bd5-8ab7-d613dcfab10e\",\"type\":\"Circle\"},\"hover_glyph\":null,\"muted_glyph\":null,\"nonselection_glyph\":{\"id\":\"29e4b46b-fbe0-42d6-a63b-c9f5b57b421e\",\"type\":\"Circle\"},\"selection_glyph\":null,\"view\":{\"id\":\"ceff0d47-234d-4391-91e1-7953bf082f2e\",\"type\":\"CDSView\"}},\"id\":\"7823244b-18dd-457c-a4f3-168971c169fe\",\"type\":\"GlyphRenderer\"},{\"attributes\":{\"callback\":null,\"column_names\":[\"x\",\"y\"],\"data\":{\"x\":{\"__ndarray__\":\"AAAAAAAA8D8AAAAAAAAAQAAAAAAAAAhAAAAAAAAAEEA=\",\"dtype\":\"float64\",\"shape\":[4]},\"y\":{\"__ndarray__\":\"AAAAAAAAAEAAAAAAAAAEQAAAAAAAAAhAAAAAAAAAFEA=\",\"dtype\":\"float64\",\"shape\":[4]}}},\"id\":\"59b1a57e-20d5-46c2-85e9-84c82272a9de\",\"type\":\"ColumnDataSource\"},{\"attributes\":{\"overlay\":{\"id\":\"e9e37516-224a-48f5-a3b7-9c1cdb76ac2d\",\"type\":\"BoxAnnotation\"}},\"id\":\"4b879c2e-e3b7-4f55-87ca-5a33a9b01e74\",\"type\":\"BoxZoomTool\"},{\"attributes\":{},\"id\":\"f4a5e4f1-909b-4f96-a35f-56a6f8d147df\",\"type\":\"BasicTickFormatter\"},{\"attributes\":{\"fill_color\":{\"value\":\"#1f77b4\"},\"line_color\":{\"value\":\"#1f77b4\"},\"x\":{\"field\":\"x\"},\"y\":{\"field\":\"y\"}},\"id\":\"d4407ae7-5ed7-4bd5-8ab7-d613dcfab10e\",\"type\":\"Circle\"},{\"attributes\":{\"fill_alpha\":{\"value\":0.1},\"fill_color\":{\"value\":\"#1f77b4\"},\"line_alpha\":{\"value\":0.1},\"line_color\":{\"value\":\"#1f77b4\"},\"x\":{\"field\":\"x\"},\"y\":{\"field\":\"y\"}},\"id\":\"29e4b46b-fbe0-42d6-a63b-c9f5b57b421e\",\"type\":\"Circle\"},{\"attributes\":{},\"id\":\"b3dcc71f-1058-49da-a8dd-75c2725c2893\",\"type\":\"LinearScale\"},{\"attributes\":{\"active_drag\":\"auto\",\"active_inspect\":\"auto\",\"active_scroll\":\"auto\",\"active_tap\":\"auto\",\"tools\":[{\"id\":\"fa2685b3-94d4-43b8-b47c-a60f6f1c47f4\",\"type\":\"PanTool\"},{\"id\":\"6983f9af-008f-4aae-b7c0-0b14264656bf\",\"type\":\"WheelZoomTool\"},{\"id\":\"4b879c2e-e3b7-4f55-87ca-5a33a9b01e74\",\"type\":\"BoxZoomTool\"},{\"id\":\"1129c04b-7aa1-40dc-9477-6a13e6c9bbaa\",\"type\":\"SaveTool\"},{\"id\":\"78ff8075-780a-4fd6-8a16-75a928cec02b\",\"type\":\"ResetTool\"},{\"id\":\"47b2d4c6-8be1-4327-b880-17c42932bbd3\",\"type\":\"HelpTool\"}]},\"id\":\"18daeece-4fdc-4e6e-9169-119adcb50d70\",\"type\":\"Toolbar\"},{\"attributes\":{\"plot\":null,\"text\":\"\"},\"id\":\"60d42530-b77b-45fd-9fac-1919a66eaa8b\",\"type\":\"Title\"},{\"attributes\":{\"callback\":null},\"id\":\"4b010d4d-7c4b-4f8e-b5f8-886bc98f1810\",\"type\":\"DataRange1d\"},{\"attributes\":{},\"id\":\"ae808fdb-0ab8-449a-8c94-e1b288d18e58\",\"type\":\"BasicTickFormatter\"},{\"attributes\":{},\"id\":\"fa2685b3-94d4-43b8-b47c-a60f6f1c47f4\",\"type\":\"PanTool\"},{\"attributes\":{},\"id\":\"d4118869-527f-4976-97c8-bb301414fe33\",\"type\":\"LinearScale\"},{\"attributes\":{\"bottom_units\":\"screen\",\"fill_alpha\":{\"value\":0.5},\"fill_color\":{\"value\":\"lightgrey\"},\"left_units\":\"screen\",\"level\":\"overlay\",\"line_alpha\":{\"value\":1.0},\"line_color\":{\"value\":\"black\"},\"line_dash\":[4,4],\"line_width\":{\"value\":2},\"plot\":null,\"render_mode\":\"css\",\"right_units\":\"screen\",\"top_units\":\"screen\"},\"id\":\"e9e37516-224a-48f5-a3b7-9c1cdb76ac2d\",\"type\":\"BoxAnnotation\"},{\"attributes\":{},\"id\":\"78ff8075-780a-4fd6-8a16-75a928cec02b\",\"type\":\"ResetTool\"},{\"attributes\":{},\"id\":\"6983f9af-008f-4aae-b7c0-0b14264656bf\",\"type\":\"WheelZoomTool\"},{\"attributes\":{\"dimension\":1,\"plot\":{\"id\":\"db91aeda-5619-40d8-9982-6b3f612b0332\",\"subtype\":\"Figure\",\"type\":\"Plot\"},\"ticker\":{\"id\":\"ef181d83-8f03-43f0-905f-8c09217873c9\",\"type\":\"BasicTicker\"}},\"id\":\"8102c2cd-a4c1-4047-915d-4a745f0a7978\",\"type\":\"Grid\"},{\"attributes\":{\"formatter\":{\"id\":\"ae808fdb-0ab8-449a-8c94-e1b288d18e58\",\"type\":\"BasicTickFormatter\"},\"plot\":{\"id\":\"db91aeda-5619-40d8-9982-6b3f612b0332\",\"subtype\":\"Figure\",\"type\":\"Plot\"},\"ticker\":{\"id\":\"ef181d83-8f03-43f0-905f-8c09217873c9\",\"type\":\"BasicTicker\"}},\"id\":\"6b4d52e9-ff81-4f22-948a-29665e2fc161\",\"type\":\"LinearAxis\"},{\"attributes\":{},\"id\":\"47b2d4c6-8be1-4327-b880-17c42932bbd3\",\"type\":\"HelpTool\"},{\"attributes\":{},\"id\":\"df5df330-71e5-4353-83cd-54b877c7b5f4\",\"type\":\"BasicTicker\"},{\"attributes\":{},\"id\":\"1129c04b-7aa1-40dc-9477-6a13e6c9bbaa\",\"type\":\"SaveTool\"},{\"attributes\":{\"callback\":null},\"id\":\"4fd40daf-a45a-4e64-9c3d-c8e199560e90\",\"type\":\"DataRange1d\"}],\"root_ids\":[\"db91aeda-5619-40d8-9982-6b3f612b0332\"]},\"title\":\"Bokeh Application\",\"version\":\"0.12.7\"}};\n",
       "            var render_items = [{\"docid\":\"e369b0f5-9f8b-484d-91d5-7a38ad6ec2e8\",\"elementid\":\"96ed1402-c641-4559-b740-2969b6911c43\",\"modelid\":\"db91aeda-5619-40d8-9982-6b3f612b0332\"}];\n",
       "            \n",
       "            Bokeh.embed.embed_items(docs_json, render_items);\n",
       "          };\n",
       "          if (document.readyState != \"loading\") fn();\n",
       "          else document.addEventListener(\"DOMContentLoaded\", fn);\n",
       "        })();\n",
       "      },\n",
       "      function(Bokeh) {\n",
       "      }\n",
       "    ];\n",
       "  \n",
       "    function run_inline_js() {\n",
       "      \n",
       "      if ((root.Bokeh !== undefined) || (force === true)) {\n",
       "        for (var i = 0; i < inline_js.length; i++) {\n",
       "          inline_js[i].call(root, root.Bokeh);\n",
       "        }if (force === true) {\n",
       "          display_loaded();\n",
       "        }} else if (Date.now() < root._bokeh_timeout) {\n",
       "        setTimeout(run_inline_js, 100);\n",
       "      } else if (!root._bokeh_failed_load) {\n",
       "        console.log(\"Bokeh: BokehJS failed to load within specified timeout.\");\n",
       "        root._bokeh_failed_load = true;\n",
       "      } else if (force !== true) {\n",
       "        var cell = $(document.getElementById(\"96ed1402-c641-4559-b740-2969b6911c43\")).parents('.cell').data().cell;\n",
       "        cell.output_area.append_execute_result(NB_LOAD_WARNING)\n",
       "      }\n",
       "  \n",
       "    }\n",
       "  \n",
       "    if (root._bokeh_is_loading === 0) {\n",
       "      console.log(\"Bokeh: BokehJS loaded, going straight to plotting\");\n",
       "      run_inline_js();\n",
       "    } else {\n",
       "      load_libs(js_urls, function() {\n",
       "        console.log(\"Bokeh: BokehJS plotting callback run at\", now());\n",
       "        run_inline_js();\n",
       "      });\n",
       "    }\n",
       "  }(window));\n",
       "</script>"
      ]
     },
     "metadata": {},
     "output_type": "display_data"
    }
   ],
   "source": [
    "X1 = np.array([[1,2],\n",
    "             [2,2.5],\n",
    "             [3,3],\n",
    "             [4,5]])\n",
    "p = figure(plot_width=300, plot_height=200)\n",
    "p.circle(X1[:,0], X1[:,1])\n",
    "show(p)"
   ]
  },
  {
   "cell_type": "code",
   "execution_count": 35,
   "metadata": {},
   "outputs": [
    {
     "data": {
      "text/plain": [
       "array([[-1.85344857, -0.28346678],\n",
       "       [-0.79632853,  0.08053491],\n",
       "       [ 0.2607915 ,  0.4445366 ],\n",
       "       [ 2.38898559, -0.24160473]])"
      ]
     },
     "execution_count": 35,
     "metadata": {},
     "output_type": "execute_result"
    }
   ],
   "source": [
    "pca1 = PCA()\n",
    "pca1.fit(X1)\n",
    "pca1.transform(X1)"
   ]
  },
  {
   "cell_type": "code",
   "execution_count": 34,
   "metadata": {},
   "outputs": [
    {
     "name": "stdout",
     "output_type": "stream",
     "text": [
      "[ 0.96634847  0.03365153]\n"
     ]
    }
   ],
   "source": [
    "print(pca1.explained_variance_ratio_)"
   ]
  },
  {
   "cell_type": "markdown",
   "metadata": {
    "collapsed": true
   },
   "source": [
    "###  Add extra dimensions with low variance"
   ]
  },
  {
   "cell_type": "code",
   "execution_count": 118,
   "metadata": {},
   "outputs": [
    {
     "data": {
      "text/plain": [
       "array([[ 1.  ,  2.  ,  0.9 ],\n",
       "       [ 2.  ,  2.5 ,  0.8 ],\n",
       "       [ 3.  ,  3.  ,  0.95],\n",
       "       [ 4.  ,  5.  ,  0.85]])"
      ]
     },
     "execution_count": 118,
     "metadata": {},
     "output_type": "execute_result"
    }
   ],
   "source": [
    "X2 = np.append(X1, np.array([0.9,0.8,0.95,0.85])[:, None], 1)\n",
    "X2"
   ]
  },
  {
   "cell_type": "code",
   "execution_count": 119,
   "metadata": {},
   "outputs": [
    {
     "name": "stdout",
     "output_type": "stream",
     "text": [
      "[[ -1.85350764e+00  -2.81030393e-01  -4.22058598e-02]\n",
      " [ -7.96121930e-01   7.42043476e-02   8.32681687e-02]\n",
      " [  2.60582939e-01   4.49118931e-01  -4.04810767e-02]\n",
      " [  2.38904663e+00  -2.42292886e-01  -5.81232143e-04]]\n",
      "[ 0.96517137  0.03381353  0.0010151 ]\n"
     ]
    }
   ],
   "source": [
    "pca2 = PCA()\n",
    "pca2.fit(X2)\n",
    "print(pca2.transform(X2))\n",
    "print(pca2.explained_variance_ratio_)"
   ]
  },
  {
   "cell_type": "markdown",
   "metadata": {},
   "source": [
    "###  fuck up the PCA result by putting different columns on a diffferent scale\n",
    "so that column with higher variance is scaled down while column with low variance is scaled up"
   ]
  },
  {
   "cell_type": "code",
   "execution_count": 120,
   "metadata": {},
   "outputs": [
    {
     "data": {
      "text/plain": [
       "array([[  1. ,   2. ,  99. ],\n",
       "       [  2. ,   2.5,  98. ],\n",
       "       [  3. ,   3. ,  95. ],\n",
       "       [  4. ,   5. ,  97. ]])"
      ]
     },
     "execution_count": 120,
     "metadata": {},
     "output_type": "execute_result"
    }
   ],
   "source": [
    "# X3[:,3] = X3[:,3] * 10\n",
    "X3 = np.append(X1, np.array([0.99,0.98,0.95,0.97])[:, None], 1)\n",
    "X3[:,2] = X3[:,2] * 100\n",
    "X3"
   ]
  },
  {
   "cell_type": "code",
   "execution_count": 121,
   "metadata": {},
   "outputs": [
    {
     "data": {
      "text/html": [
       "\n",
       "\n",
       "    <div class=\"bk-root\">\n",
       "        <div class=\"bk-plotdiv\" id=\"b7709ed0-902b-40bf-94c6-8a9f0050014c\"></div>\n",
       "    </div>\n",
       "<script type=\"text/javascript\">\n",
       "  \n",
       "  (function(root) {\n",
       "    function now() {\n",
       "      return new Date();\n",
       "    }\n",
       "  \n",
       "    var force = false;\n",
       "  \n",
       "    if (typeof (root._bokeh_onload_callbacks) === \"undefined\" || force === true) {\n",
       "      root._bokeh_onload_callbacks = [];\n",
       "      root._bokeh_is_loading = undefined;\n",
       "    }\n",
       "  \n",
       "  \n",
       "    \n",
       "    if (typeof (root._bokeh_timeout) === \"undefined\" || force === true) {\n",
       "      root._bokeh_timeout = Date.now() + 0;\n",
       "      root._bokeh_failed_load = false;\n",
       "    }\n",
       "  \n",
       "    var NB_LOAD_WARNING = {'data': {'text/html':\n",
       "       \"<div style='background-color: #fdd'>\\n\"+\n",
       "       \"<p>\\n\"+\n",
       "       \"BokehJS does not appear to have successfully loaded. If loading BokehJS from CDN, this \\n\"+\n",
       "       \"may be due to a slow or bad network connection. Possible fixes:\\n\"+\n",
       "       \"</p>\\n\"+\n",
       "       \"<ul>\\n\"+\n",
       "       \"<li>re-rerun `output_notebook()` to attempt to load from CDN again, or</li>\\n\"+\n",
       "       \"<li>use INLINE resources instead, as so:</li>\\n\"+\n",
       "       \"</ul>\\n\"+\n",
       "       \"<code>\\n\"+\n",
       "       \"from bokeh.resources import INLINE\\n\"+\n",
       "       \"output_notebook(resources=INLINE)\\n\"+\n",
       "       \"</code>\\n\"+\n",
       "       \"</div>\"}};\n",
       "  \n",
       "    function display_loaded() {\n",
       "      if (root.Bokeh !== undefined) {\n",
       "        var el = document.getElementById(\"b7709ed0-902b-40bf-94c6-8a9f0050014c\");\n",
       "        if (el != null) {\n",
       "          el.textContent = \"BokehJS \" + Bokeh.version + \" successfully loaded.\";\n",
       "        }\n",
       "      } else if (Date.now() < root._bokeh_timeout) {\n",
       "        setTimeout(display_loaded, 100)\n",
       "      }\n",
       "    }\n",
       "  \n",
       "  \n",
       "    function run_callbacks() {\n",
       "      try {\n",
       "        root._bokeh_onload_callbacks.forEach(function(callback) { callback() });\n",
       "      }\n",
       "      finally {\n",
       "        delete root._bokeh_onload_callbacks\n",
       "      }\n",
       "      console.info(\"Bokeh: all callbacks have finished\");\n",
       "    }\n",
       "  \n",
       "    function load_libs(js_urls, callback) {\n",
       "      root._bokeh_onload_callbacks.push(callback);\n",
       "      if (root._bokeh_is_loading > 0) {\n",
       "        console.log(\"Bokeh: BokehJS is being loaded, scheduling callback at\", now());\n",
       "        return null;\n",
       "      }\n",
       "      if (js_urls == null || js_urls.length === 0) {\n",
       "        run_callbacks();\n",
       "        return null;\n",
       "      }\n",
       "      console.log(\"Bokeh: BokehJS not loaded, scheduling load and callback at\", now());\n",
       "      root._bokeh_is_loading = js_urls.length;\n",
       "      for (var i = 0; i < js_urls.length; i++) {\n",
       "        var url = js_urls[i];\n",
       "        var s = document.createElement('script');\n",
       "        s.src = url;\n",
       "        s.async = false;\n",
       "        s.onreadystatechange = s.onload = function() {\n",
       "          root._bokeh_is_loading--;\n",
       "          if (root._bokeh_is_loading === 0) {\n",
       "            console.log(\"Bokeh: all BokehJS libraries loaded\");\n",
       "            run_callbacks()\n",
       "          }\n",
       "        };\n",
       "        s.onerror = function() {\n",
       "          console.warn(\"failed to load library \" + url);\n",
       "        };\n",
       "        console.log(\"Bokeh: injecting script tag for BokehJS library: \", url);\n",
       "        document.getElementsByTagName(\"head\")[0].appendChild(s);\n",
       "      }\n",
       "    };var element = document.getElementById(\"b7709ed0-902b-40bf-94c6-8a9f0050014c\");\n",
       "    if (element == null) {\n",
       "      console.log(\"Bokeh: ERROR: autoload.js configured with elementid 'b7709ed0-902b-40bf-94c6-8a9f0050014c' but no matching script tag was found. \")\n",
       "      return false;\n",
       "    }\n",
       "  \n",
       "    var js_urls = [];\n",
       "  \n",
       "    var inline_js = [\n",
       "      function(Bokeh) {\n",
       "        (function() {\n",
       "          var fn = function() {\n",
       "            var docs_json = {\"303b7aa0-a40a-41ef-9d33-1c2030e286e7\":{\"roots\":{\"references\":[{\"attributes\":{},\"id\":\"fe9b9d06-5ec1-44fc-add3-00d835bd2234\",\"type\":\"BasicTicker\"},{\"attributes\":{\"plot\":{\"id\":\"342f3d7b-2509-4d11-a3c6-9a2cbd815dd6\",\"subtype\":\"Figure\",\"type\":\"Plot\"},\"ticker\":{\"id\":\"e34ec84f-6bd4-466d-9a9f-a636a45cbd8b\",\"type\":\"BasicTicker\"}},\"id\":\"44652a44-e847-4ebb-a2e4-58f0e3af40e6\",\"type\":\"Grid\"},{\"attributes\":{\"formatter\":{\"id\":\"ffb3b545-55d9-4786-a126-c47b56ff8a26\",\"type\":\"BasicTickFormatter\"},\"plot\":{\"id\":\"342f3d7b-2509-4d11-a3c6-9a2cbd815dd6\",\"subtype\":\"Figure\",\"type\":\"Plot\"},\"ticker\":{\"id\":\"fe9b9d06-5ec1-44fc-add3-00d835bd2234\",\"type\":\"BasicTicker\"}},\"id\":\"fffcf231-72ca-4385-8f91-7e4196e36553\",\"type\":\"LinearAxis\"},{\"attributes\":{\"fill_alpha\":{\"value\":0.1},\"fill_color\":{\"value\":\"#1f77b4\"},\"line_alpha\":{\"value\":0.1},\"line_color\":{\"value\":\"#1f77b4\"},\"x\":{\"field\":\"x\"},\"y\":{\"field\":\"y\"}},\"id\":\"a54eb01e-063d-4e13-8580-88bd52e6db43\",\"type\":\"Circle\"},{\"attributes\":{},\"id\":\"2f57a9a9-114f-49bb-9fe8-bd45a5566c57\",\"type\":\"HelpTool\"},{\"attributes\":{},\"id\":\"becafd9c-2953-495b-b4a3-6208e94f80ec\",\"type\":\"PanTool\"},{\"attributes\":{\"fill_color\":{\"value\":\"#1f77b4\"},\"line_color\":{\"value\":\"#1f77b4\"},\"x\":{\"field\":\"x\"},\"y\":{\"field\":\"y\"}},\"id\":\"307e661e-2e0e-46af-91ef-b7e5b5f272a2\",\"type\":\"Circle\"},{\"attributes\":{\"active_drag\":\"auto\",\"active_inspect\":\"auto\",\"active_scroll\":\"auto\",\"active_tap\":\"auto\",\"tools\":[{\"id\":\"becafd9c-2953-495b-b4a3-6208e94f80ec\",\"type\":\"PanTool\"},{\"id\":\"1996da78-ef58-44ea-aa34-cefadfd5f2ca\",\"type\":\"WheelZoomTool\"},{\"id\":\"58bfc641-cfea-453b-83ef-73b628ba7b9b\",\"type\":\"BoxZoomTool\"},{\"id\":\"6420d3cc-75c8-4d78-943c-903a58e103d8\",\"type\":\"SaveTool\"},{\"id\":\"929d6623-8d70-4099-8d3c-dea0b0f2b0da\",\"type\":\"ResetTool\"},{\"id\":\"2f57a9a9-114f-49bb-9fe8-bd45a5566c57\",\"type\":\"HelpTool\"}]},\"id\":\"a877e5d2-26c0-4b39-a4bf-0e50a7140803\",\"type\":\"Toolbar\"},{\"attributes\":{},\"id\":\"929d6623-8d70-4099-8d3c-dea0b0f2b0da\",\"type\":\"ResetTool\"},{\"attributes\":{},\"id\":\"6420d3cc-75c8-4d78-943c-903a58e103d8\",\"type\":\"SaveTool\"},{\"attributes\":{\"callback\":null},\"id\":\"51519e7c-1eb0-416c-b6e2-11af6a37959e\",\"type\":\"DataRange1d\"},{\"attributes\":{\"source\":{\"id\":\"8bc84aff-06ba-44b0-aee5-9b1fddd33b3a\",\"type\":\"ColumnDataSource\"}},\"id\":\"93fd5eb8-b242-4b63-ab6c-b72aa5ac139d\",\"type\":\"CDSView\"},{\"attributes\":{\"callback\":null,\"column_names\":[\"x\",\"y\"],\"data\":{\"x\":{\"__ndarray__\":\"AAAAAAAA8D8AAAAAAAAAQAAAAAAAAAhAAAAAAAAAEEA=\",\"dtype\":\"float64\",\"shape\":[4]},\"y\":{\"__ndarray__\":\"AAAAAAAAAEAAAAAAAAAEQAAAAAAAAAhAAAAAAAAAFEA=\",\"dtype\":\"float64\",\"shape\":[4]}}},\"id\":\"8bc84aff-06ba-44b0-aee5-9b1fddd33b3a\",\"type\":\"ColumnDataSource\"},{\"attributes\":{\"callback\":null},\"id\":\"3697df3e-dcfc-4c33-a3f6-146bfa533190\",\"type\":\"DataRange1d\"},{\"attributes\":{},\"id\":\"ffb3b545-55d9-4786-a126-c47b56ff8a26\",\"type\":\"BasicTickFormatter\"},{\"attributes\":{\"formatter\":{\"id\":\"d8595003-b81b-4005-8fa2-ad43673aab2a\",\"type\":\"BasicTickFormatter\"},\"plot\":{\"id\":\"342f3d7b-2509-4d11-a3c6-9a2cbd815dd6\",\"subtype\":\"Figure\",\"type\":\"Plot\"},\"ticker\":{\"id\":\"e34ec84f-6bd4-466d-9a9f-a636a45cbd8b\",\"type\":\"BasicTicker\"}},\"id\":\"813ae65a-836a-4cf0-bb27-93af7c479049\",\"type\":\"LinearAxis\"},{\"attributes\":{\"data_source\":{\"id\":\"8bc84aff-06ba-44b0-aee5-9b1fddd33b3a\",\"type\":\"ColumnDataSource\"},\"glyph\":{\"id\":\"307e661e-2e0e-46af-91ef-b7e5b5f272a2\",\"type\":\"Circle\"},\"hover_glyph\":null,\"muted_glyph\":null,\"nonselection_glyph\":{\"id\":\"a54eb01e-063d-4e13-8580-88bd52e6db43\",\"type\":\"Circle\"},\"selection_glyph\":null,\"view\":{\"id\":\"93fd5eb8-b242-4b63-ab6c-b72aa5ac139d\",\"type\":\"CDSView\"}},\"id\":\"378e8e27-8866-4a80-8a0c-c111a7f54175\",\"type\":\"GlyphRenderer\"},{\"attributes\":{\"bottom_units\":\"screen\",\"fill_alpha\":{\"value\":0.5},\"fill_color\":{\"value\":\"lightgrey\"},\"left_units\":\"screen\",\"level\":\"overlay\",\"line_alpha\":{\"value\":1.0},\"line_color\":{\"value\":\"black\"},\"line_dash\":[4,4],\"line_width\":{\"value\":2},\"plot\":null,\"render_mode\":\"css\",\"right_units\":\"screen\",\"top_units\":\"screen\"},\"id\":\"ec7d7f16-0569-4a89-9ed0-dc3451070f35\",\"type\":\"BoxAnnotation\"},{\"attributes\":{},\"id\":\"94a32c12-a1b6-450b-b465-4b505961d82b\",\"type\":\"LinearScale\"},{\"attributes\":{\"overlay\":{\"id\":\"ec7d7f16-0569-4a89-9ed0-dc3451070f35\",\"type\":\"BoxAnnotation\"}},\"id\":\"58bfc641-cfea-453b-83ef-73b628ba7b9b\",\"type\":\"BoxZoomTool\"},{\"attributes\":{},\"id\":\"c09c98ed-8153-45a3-a3d4-cf1413cecb4e\",\"type\":\"LinearScale\"},{\"attributes\":{},\"id\":\"1996da78-ef58-44ea-aa34-cefadfd5f2ca\",\"type\":\"WheelZoomTool\"},{\"attributes\":{},\"id\":\"d8595003-b81b-4005-8fa2-ad43673aab2a\",\"type\":\"BasicTickFormatter\"},{\"attributes\":{\"below\":[{\"id\":\"813ae65a-836a-4cf0-bb27-93af7c479049\",\"type\":\"LinearAxis\"}],\"left\":[{\"id\":\"fffcf231-72ca-4385-8f91-7e4196e36553\",\"type\":\"LinearAxis\"}],\"plot_height\":200,\"plot_width\":300,\"renderers\":[{\"id\":\"813ae65a-836a-4cf0-bb27-93af7c479049\",\"type\":\"LinearAxis\"},{\"id\":\"44652a44-e847-4ebb-a2e4-58f0e3af40e6\",\"type\":\"Grid\"},{\"id\":\"fffcf231-72ca-4385-8f91-7e4196e36553\",\"type\":\"LinearAxis\"},{\"id\":\"63d49966-c1a5-4b29-911d-5a853360b838\",\"type\":\"Grid\"},{\"id\":\"ec7d7f16-0569-4a89-9ed0-dc3451070f35\",\"type\":\"BoxAnnotation\"},{\"id\":\"378e8e27-8866-4a80-8a0c-c111a7f54175\",\"type\":\"GlyphRenderer\"}],\"title\":{\"id\":\"c3a8224d-55d2-44da-89a0-62863349b25a\",\"type\":\"Title\"},\"toolbar\":{\"id\":\"a877e5d2-26c0-4b39-a4bf-0e50a7140803\",\"type\":\"Toolbar\"},\"x_range\":{\"id\":\"51519e7c-1eb0-416c-b6e2-11af6a37959e\",\"type\":\"DataRange1d\"},\"x_scale\":{\"id\":\"c09c98ed-8153-45a3-a3d4-cf1413cecb4e\",\"type\":\"LinearScale\"},\"y_range\":{\"id\":\"3697df3e-dcfc-4c33-a3f6-146bfa533190\",\"type\":\"DataRange1d\"},\"y_scale\":{\"id\":\"94a32c12-a1b6-450b-b465-4b505961d82b\",\"type\":\"LinearScale\"}},\"id\":\"342f3d7b-2509-4d11-a3c6-9a2cbd815dd6\",\"subtype\":\"Figure\",\"type\":\"Plot\"},{\"attributes\":{},\"id\":\"e34ec84f-6bd4-466d-9a9f-a636a45cbd8b\",\"type\":\"BasicTicker\"},{\"attributes\":{\"plot\":null,\"text\":\"\"},\"id\":\"c3a8224d-55d2-44da-89a0-62863349b25a\",\"type\":\"Title\"},{\"attributes\":{\"dimension\":1,\"plot\":{\"id\":\"342f3d7b-2509-4d11-a3c6-9a2cbd815dd6\",\"subtype\":\"Figure\",\"type\":\"Plot\"},\"ticker\":{\"id\":\"fe9b9d06-5ec1-44fc-add3-00d835bd2234\",\"type\":\"BasicTicker\"}},\"id\":\"63d49966-c1a5-4b29-911d-5a853360b838\",\"type\":\"Grid\"}],\"root_ids\":[\"342f3d7b-2509-4d11-a3c6-9a2cbd815dd6\"]},\"title\":\"Bokeh Application\",\"version\":\"0.12.7\"}};\n",
       "            var render_items = [{\"docid\":\"303b7aa0-a40a-41ef-9d33-1c2030e286e7\",\"elementid\":\"b7709ed0-902b-40bf-94c6-8a9f0050014c\",\"modelid\":\"342f3d7b-2509-4d11-a3c6-9a2cbd815dd6\"}];\n",
       "            \n",
       "            Bokeh.embed.embed_items(docs_json, render_items);\n",
       "          };\n",
       "          if (document.readyState != \"loading\") fn();\n",
       "          else document.addEventListener(\"DOMContentLoaded\", fn);\n",
       "        })();\n",
       "      },\n",
       "      function(Bokeh) {\n",
       "      }\n",
       "    ];\n",
       "  \n",
       "    function run_inline_js() {\n",
       "      \n",
       "      if ((root.Bokeh !== undefined) || (force === true)) {\n",
       "        for (var i = 0; i < inline_js.length; i++) {\n",
       "          inline_js[i].call(root, root.Bokeh);\n",
       "        }if (force === true) {\n",
       "          display_loaded();\n",
       "        }} else if (Date.now() < root._bokeh_timeout) {\n",
       "        setTimeout(run_inline_js, 100);\n",
       "      } else if (!root._bokeh_failed_load) {\n",
       "        console.log(\"Bokeh: BokehJS failed to load within specified timeout.\");\n",
       "        root._bokeh_failed_load = true;\n",
       "      } else if (force !== true) {\n",
       "        var cell = $(document.getElementById(\"b7709ed0-902b-40bf-94c6-8a9f0050014c\")).parents('.cell').data().cell;\n",
       "        cell.output_area.append_execute_result(NB_LOAD_WARNING)\n",
       "      }\n",
       "  \n",
       "    }\n",
       "  \n",
       "    if (root._bokeh_is_loading === 0) {\n",
       "      console.log(\"Bokeh: BokehJS loaded, going straight to plotting\");\n",
       "      run_inline_js();\n",
       "    } else {\n",
       "      load_libs(js_urls, function() {\n",
       "        console.log(\"Bokeh: BokehJS plotting callback run at\", now());\n",
       "        run_inline_js();\n",
       "      });\n",
       "    }\n",
       "  }(window));\n",
       "</script>"
      ]
     },
     "metadata": {},
     "output_type": "display_data"
    }
   ],
   "source": [
    "p = figure(plot_width=300, plot_height=200)\n",
    "p.circle(X3[:,0], X3[:,1])\n",
    "show(p)"
   ]
  },
  {
   "cell_type": "code",
   "execution_count": 122,
   "metadata": {},
   "outputs": [
    {
     "name": "stdout",
     "output_type": "stream",
     "text": [
      "[[ 2.5617238  -0.07412383 -0.1010041 ]\n",
      " [ 1.08609743  0.0170419   0.15240391]\n",
      " [-1.7319079   1.52571404 -0.02857768]\n",
      " [-1.91591333 -1.46863211 -0.02282212]]\n",
      "explained variance ratio\n",
      "[ 0.76104371  0.23712044  0.00183584]\n"
     ]
    }
   ],
   "source": [
    "pca3 = PCA()\n",
    "pca3.fit(X3)\n",
    "print(pca3.transform(X3))\n",
    "print(\"explained variance ratio\")\n",
    "print(pca3.explained_variance_ratio_)"
   ]
  },
  {
   "cell_type": "markdown",
   "metadata": {},
   "source": [
    "###  un-fuck up the PCA result by normalizing\n",
    "minmax or standard scaling doesn't work because they center and stretch the last uni-variant column\n",
    "MaxAbsScaler worked because it make sure that the Max value is 1 and no stretching happened"
   ]
  },
  {
   "cell_type": "code",
   "execution_count": 138,
   "metadata": {},
   "outputs": [
    {
     "data": {
      "text/plain": [
       "array([[ 0.25      ,  0.4       ,  1.        ],\n",
       "       [ 0.5       ,  0.5       ,  0.98989899],\n",
       "       [ 0.75      ,  0.6       ,  0.95959596],\n",
       "       [ 1.        ,  1.        ,  0.97979798]])"
      ]
     },
     "execution_count": 138,
     "metadata": {},
     "output_type": "execute_result"
    }
   ],
   "source": [
    "# scaler = MinMaxScaler()\n",
    "# scaler = StandardScaler()\n",
    "scaler = MaxAbsScaler()\n",
    "X4 = scaler.fit_transform(X3)\n",
    "X4"
   ]
  },
  {
   "cell_type": "code",
   "execution_count": 139,
   "metadata": {},
   "outputs": [
    {
     "name": "stdout",
     "output_type": "stream",
     "text": [
      "[[ -4.33581202e-01  -5.96535556e-02  -3.35602398e-03]\n",
      " [ -1.75860985e-01   1.83361790e-02   6.64006433e-03]\n",
      " [  8.23486738e-02   9.98733634e-02  -3.24594145e-03]\n",
      " [  5.27093513e-01  -5.85559868e-02  -3.80988977e-05]]\n",
      "explained variance ratio\n",
      "[  9.66664645e-01   3.32088591e-02   1.26496168e-04]\n"
     ]
    }
   ],
   "source": [
    "pca4 = PCA()\n",
    "pca4.fit(X4)\n",
    "print(pca4.transform(X4))\n",
    "print(\"explained variance ratio\")\n",
    "print(pca4.explained_variance_ratio_)"
   ]
  },
  {
   "cell_type": "code",
   "execution_count": null,
   "metadata": {
    "collapsed": true
   },
   "outputs": [],
   "source": []
  },
  {
   "cell_type": "code",
   "execution_count": null,
   "metadata": {
    "collapsed": true
   },
   "outputs": [],
   "source": []
  }
 ],
 "metadata": {
  "kernelspec": {
   "display_name": "Python 3",
   "language": "python",
   "name": "python3"
  },
  "language_info": {
   "codemirror_mode": {
    "name": "ipython",
    "version": 3
   },
   "file_extension": ".py",
   "mimetype": "text/x-python",
   "name": "python",
   "nbconvert_exporter": "python",
   "pygments_lexer": "ipython3",
   "version": "3.6.2"
  }
 },
 "nbformat": 4,
 "nbformat_minor": 2
}
