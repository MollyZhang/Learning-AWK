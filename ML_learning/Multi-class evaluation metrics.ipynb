{
 "cells": [
  {
   "cell_type": "markdown",
   "metadata": {},
   "source": [
    "1. Implement weighted and unweighted F1, precision, recall for multi-class classification\n",
    "2. Answer this question: could the weighted f1 score be outside the range of weighted precision and weighted recall?"
   ]
  },
  {
   "cell_type": "code",
   "execution_count": 18,
   "metadata": {
    "collapsed": true
   },
   "outputs": [],
   "source": [
    "import numpy as np\n",
    "import pandas as pd\n",
    "\n",
    "from sklearn.datasets import make_classification\n",
    "from sklearn.linear_model import LogisticRegression\n",
    "from sklearn.metrics import accuracy_score, recall_score, precision_score, f1_score"
   ]
  },
  {
   "cell_type": "code",
   "execution_count": 98,
   "metadata": {
    "collapsed": false
   },
   "outputs": [],
   "source": [
    "X, y = make_classification(n_classes=3, weights=[.7, .2, .1],\n",
    "                           n_samples=100, n_features=10, n_clusters_per_class=1, \n",
    "                    n_informative=10, n_redundant=0, n_repeated=0)"
   ]
  },
  {
   "cell_type": "code",
   "execution_count": 99,
   "metadata": {
    "collapsed": false
   },
   "outputs": [],
   "source": [
    "lr = LogisticRegression()\n",
    "lr.fit(X, y)\n",
    "y_pred = lr.predict(X)"
   ]
  },
  {
   "cell_type": "code",
   "execution_count": 113,
   "metadata": {
    "collapsed": true
   },
   "outputs": [],
   "source": [
    "def float_equal(n1, n2):\n",
    "    return abs(n1-n2)<1e-8"
   ]
  },
  {
   "cell_type": "code",
   "execution_count": 114,
   "metadata": {
    "collapsed": false
   },
   "outputs": [
    {
     "name": "stdout",
     "output_type": "stream",
     "text": [
      "True\n",
      "0.94\n"
     ]
    }
   ],
   "source": [
    "accu_molly = sum((y == y_pred).astype(int))/len(y)\n",
    "accu = accuracy_score(y_true=y, y_pred=y_pred)\n",
    "print(float_equal(accu_molly,accu))\n",
    "print(accu)"
   ]
  },
  {
   "cell_type": "code",
   "execution_count": 127,
   "metadata": {
    "collapsed": false
   },
   "outputs": [],
   "source": [
    "def multi_class_weighting(y_true, y_pred, func):\n",
    "    scores = []\n",
    "    counts = []\n",
    "    for each_label in set(y_true):\n",
    "        y_true_ovr = (y_true==each_label).astype(int)\n",
    "        y_pred_ovr = (y_pred==each_label).astype(int)\n",
    "        counts.append(sum(y_true_ovr))\n",
    "        scores.append(func(y_pred_ovr, y_true_ovr))\n",
    "    return sum(np.array(scores) * np.array(counts)/sum(counts))\n",
    "        \n",
    "        \n",
    "def precision(y_pred, y):\n",
    "    positives = np.where(y_pred==1)[0]\n",
    "    return sum(y[positives])/len(positives)"
   ]
  },
  {
   "cell_type": "code",
   "execution_count": 130,
   "metadata": {
    "collapsed": false
   },
   "outputs": [
    {
     "name": "stdout",
     "output_type": "stream",
     "text": [
      "True\n",
      "0.9409750201450443\n"
     ]
    }
   ],
   "source": [
    "precision_molly = multi_class_weighting(y, y_pred, precision)\n",
    "precision_sklearn = precision_score(y_true=y, y_pred=y_pred, average=\"weighted\")\n",
    "print(float_equal(precision_molly,precision_sklearn))\n",
    "print(precision_sklearn)"
   ]
  },
  {
   "cell_type": "code",
   "execution_count": 124,
   "metadata": {
    "collapsed": true
   },
   "outputs": [],
   "source": []
  },
  {
   "cell_type": "code",
   "execution_count": null,
   "metadata": {
    "collapsed": false
   },
   "outputs": [],
   "source": []
  },
  {
   "cell_type": "code",
   "execution_count": null,
   "metadata": {
    "collapsed": true
   },
   "outputs": [],
   "source": []
  }
 ],
 "metadata": {
  "kernelspec": {
   "display_name": "Python 3",
   "language": "python",
   "name": "python3"
  },
  "language_info": {
   "codemirror_mode": {
    "name": "ipython",
    "version": 3
   },
   "file_extension": ".py",
   "mimetype": "text/x-python",
   "name": "python",
   "nbconvert_exporter": "python",
   "pygments_lexer": "ipython3",
   "version": "3.6.0"
  }
 },
 "nbformat": 4,
 "nbformat_minor": 2
}
