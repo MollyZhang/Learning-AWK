{
 "cells": [
  {
   "cell_type": "code",
   "execution_count": 8,
   "metadata": {},
   "outputs": [
    {
     "name": "stdout",
     "output_type": "stream",
     "text": [
      "The memory_profiler extension is already loaded. To reload it, use:\n",
      "  %reload_ext memory_profiler\n"
     ]
    }
   ],
   "source": [
    "import pandas as pd\n",
    "import numpy as np\n",
    "import memory_profiler\n",
    "\n",
    "%load_ext memory_profiler"
   ]
  },
  {
   "cell_type": "code",
   "execution_count": 45,
   "metadata": {},
   "outputs": [
    {
     "name": "stdout",
     "output_type": "stream",
     "text": [
      "peak memory: 732.95 MiB, increment: 297.84 MiB\n"
     ]
    }
   ],
   "source": [
    "%memit df = pd.DataFrame(np.ones((10**7, 2)), columns=[\"A\", \"B\"])"
   ]
  },
  {
   "cell_type": "code",
   "execution_count": 46,
   "metadata": {},
   "outputs": [
    {
     "name": "stdout",
     "output_type": "stream",
     "text": [
      "peak memory: 1397.47 MiB, increment: 810.02 MiB\n"
     ]
    }
   ],
   "source": [
    "%memit foo = df.A.apply(lambda x:x+1)"
   ]
  },
  {
   "cell_type": "code",
   "execution_count": 47,
   "metadata": {},
   "outputs": [
    {
     "name": "stdout",
     "output_type": "stream",
     "text": [
      "peak memory: 1440.37 MiB, increment: 730.35 MiB\n"
     ]
    }
   ],
   "source": [
    "%memit bar = df.A.map(lambda x:x+1)"
   ]
  },
  {
   "cell_type": "code",
   "execution_count": 49,
   "metadata": {
    "scrolled": true
   },
   "outputs": [
    {
     "name": "stdout",
     "output_type": "stream",
     "text": [
      "CPU times: user 2.08 s, sys: 333 ms, total: 2.41 s\n",
      "Wall time: 2.42 s\n"
     ]
    }
   ],
   "source": [
    "%time foo = df.A.apply(lambda x:x+1)"
   ]
  },
  {
   "cell_type": "code",
   "execution_count": 51,
   "metadata": {
    "scrolled": true
   },
   "outputs": [
    {
     "name": "stdout",
     "output_type": "stream",
     "text": [
      "CPU times: user 2.14 s, sys: 329 ms, total: 2.47 s\n",
      "Wall time: 2.48 s\n"
     ]
    }
   ],
   "source": [
    "%time bar = df.A.map(lambda x:x+1)"
   ]
  },
  {
   "cell_type": "code",
   "execution_count": 58,
   "metadata": {},
   "outputs": [],
   "source": [
    "# smaller dataframe for timer\n",
    "df = pd.DataFrame(np.ones((10**4, 2)), columns=[\"A\", \"B\"])"
   ]
  },
  {
   "cell_type": "code",
   "execution_count": 75,
   "metadata": {},
   "outputs": [],
   "source": [
    "def loc_df(df):\n",
    "    values = []\n",
    "    for i in df.index:\n",
    "        values.append(df.loc[i, \"A\"]+1)\n",
    "    return values\n",
    "\n",
    "def iterrow(df):\n",
    "    values = []\n",
    "    for i, row in df.iterrows():\n",
    "        values.append(row.A+1)\n",
    "    return values\n",
    "\n",
    "def getvalue(df):\n",
    "    values = []\n",
    "    for i in df.index:\n",
    "        values.append(df.at[i, \"A\"])\n",
    "    return values"
   ]
  },
  {
   "cell_type": "code",
   "execution_count": 69,
   "metadata": {},
   "outputs": [
    {
     "name": "stdout",
     "output_type": "stream",
     "text": [
      "CPU times: user 74.8 ms, sys: 1.52 ms, total: 76.3 ms\n",
      "Wall time: 75.8 ms\n"
     ]
    }
   ],
   "source": [
    "%time foo = loc_df(df)"
   ]
  },
  {
   "cell_type": "code",
   "execution_count": 70,
   "metadata": {},
   "outputs": [
    {
     "name": "stdout",
     "output_type": "stream",
     "text": [
      "CPU times: user 3.2 ms, sys: 102 µs, total: 3.3 ms\n",
      "Wall time: 3.23 ms\n"
     ]
    }
   ],
   "source": [
    "%time bar = df.A.apply(lambda x:x+1)"
   ]
  },
  {
   "cell_type": "code",
   "execution_count": 71,
   "metadata": {},
   "outputs": [
    {
     "name": "stdout",
     "output_type": "stream",
     "text": [
      "CPU times: user 308 ms, sys: 2.25 ms, total: 311 ms\n",
      "Wall time: 310 ms\n"
     ]
    }
   ],
   "source": [
    "%time _ = iterrow(df)"
   ]
  },
  {
   "cell_type": "code",
   "execution_count": 76,
   "metadata": {},
   "outputs": [
    {
     "name": "stdout",
     "output_type": "stream",
     "text": [
      "CPU times: user 48.1 ms, sys: 1.2 ms, total: 49.3 ms\n",
      "Wall time: 48.9 ms\n"
     ]
    }
   ],
   "source": [
    "%time _ = getvalue(df)"
   ]
  },
  {
   "cell_type": "code",
   "execution_count": null,
   "metadata": {},
   "outputs": [],
   "source": []
  }
 ],
 "metadata": {
  "kernelspec": {
   "display_name": "Python 3",
   "language": "python",
   "name": "python3"
  },
  "language_info": {
   "codemirror_mode": {
    "name": "ipython",
    "version": 3
   },
   "file_extension": ".py",
   "mimetype": "text/x-python",
   "name": "python",
   "nbconvert_exporter": "python",
   "pygments_lexer": "ipython3",
   "version": "3.6.5"
  }
 },
 "nbformat": 4,
 "nbformat_minor": 2
}
