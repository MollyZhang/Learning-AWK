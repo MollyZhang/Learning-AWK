{
 "cells": [
  {
   "cell_type": "code",
   "execution_count": 1,
   "metadata": {},
   "outputs": [],
   "source": [
    "import numpy as np\n",
    "import pandas as pd\n",
    "import time\n",
    "import binascii\n",
    "from Crypto import Random"
   ]
  },
  {
   "cell_type": "markdown",
   "metadata": {},
   "source": [
    "### Generate long arrays of random strings"
   ]
  },
  {
   "cell_type": "code",
   "execution_count": 2,
   "metadata": {},
   "outputs": [],
   "source": [
    "example = []\n",
    "for i in range(10000):\n",
    "    example.append(binascii.hexlify(Random.get_random_bytes(20)).decode())\n",
    "example = np.array(example*100)"
   ]
  },
  {
   "cell_type": "code",
   "execution_count": 3,
   "metadata": {},
   "outputs": [
    {
     "data": {
      "text/plain": [
       "1000000"
      ]
     },
     "execution_count": 3,
     "metadata": {},
     "output_type": "execute_result"
    }
   ],
   "source": [
    "len(example)"
   ]
  },
  {
   "cell_type": "markdown",
   "metadata": {},
   "source": [
    "#### iteration vs numpy string operation"
   ]
  },
  {
   "cell_type": "code",
   "execution_count": 29,
   "metadata": {},
   "outputs": [],
   "source": [
    "def iter_encode(example):\n",
    "    return np.array([i.encode(\"ascii\") for i in example])\n",
    "\n",
    "def numpy_encode(example):\n",
    "    return np.char.encode(example, encoding=\"ascii\")\n",
    "\n",
    "def pandas_encode(example):\n",
    "    f = lambda x: x.encode(\"ascii\")\n",
    "    return pd.DataFrame(example, columns=[\"A\"])[\"A\"].apply(f).values\n",
    "\n",
    "def iter_strip(example):\n",
    "    return np.array([i.strip(\"\\n\") for i in example])\n",
    "\n",
    "def numpy_strip(example):\n",
    "    return np.char.strip(example, \"\\n\")\n",
    "\n",
    "def pandas_strip(example):\n",
    "    f = lambda x: x.strip(\"\\n\")\n",
    "    return pd.DataFrame(example, columns=[\"A\"])[\"A\"].apply(f).values\n",
    "\n",
    "def iter_upper(example):\n",
    "    return np.array([i.upper() for i in example])\n",
    "\n",
    "def numpy_upper(example):\n",
    "    return np.char.upper(example)\n",
    "\n",
    "def pandas_upper(example):\n",
    "    return pd.DataFrame(example, columns=[\"A\"])[\"A\"].apply(lambda x: x.upper()).values"
   ]
  },
  {
   "cell_type": "code",
   "execution_count": 27,
   "metadata": {},
   "outputs": [
    {
     "name": "stdout",
     "output_type": "stream",
     "text": [
      "list iterations\n",
      "strip 0.7352917194366455\n",
      "encode 0.5209448337554932\n",
      "upper 0.6873610019683838\n"
     ]
    }
   ],
   "source": [
    "print(\"list iterations\")\n",
    "t0 = time.time()\n",
    "iter_strip(example)\n",
    "print(\"strip\", time.time()-t0)\n",
    "t0 = time.time()\n",
    "iter_encode(example)\n",
    "print(\"encode\", time.time()-t0)\n",
    "t0 = time.time()\n",
    "iter_upper(example)\n",
    "print(\"upper\", time.time()-t0)"
   ]
  },
  {
   "cell_type": "code",
   "execution_count": 24,
   "metadata": {},
   "outputs": [
    {
     "name": "stdout",
     "output_type": "stream",
     "text": [
      "pandas apply\n",
      "strip 0.3976278305053711\n",
      "encode 0.4859640598297119\n",
      "upper 0.42212510108947754\n"
     ]
    }
   ],
   "source": [
    "print(\"pandas apply\")\n",
    "t0 = time.time()\n",
    "pandas_strip(example)\n",
    "print(\"strip\", time.time()-t0)\n",
    "t0 = time.time()\n",
    "pandas_encode(example)\n",
    "print(\"encode\", time.time()-t0)\n",
    "t0 = time.time()\n",
    "pandas_upper(example)\n",
    "print(\"upper\", time.time()-t0)"
   ]
  },
  {
   "cell_type": "code",
   "execution_count": 30,
   "metadata": {},
   "outputs": [
    {
     "name": "stdout",
     "output_type": "stream",
     "text": [
      "numpy operations\n",
      "strip 0.7155959606170654\n",
      "encode 0.6981050968170166\n",
      "upper 0.4615192413330078\n"
     ]
    }
   ],
   "source": [
    "print(\"numpy operations\")\n",
    "t0 = time.time()\n",
    "numpy_strip(example)\n",
    "print(\"strip\", time.time()-t0)\n",
    "t0 = time.time()\n",
    "numpy_encode(example)\n",
    "print(\"encode\", time.time()-t0)\n",
    "t0 = time.time()\n",
    "numpy_upper(example)\n",
    "print(\"upper\", time.time()-t0)"
   ]
  },
  {
   "cell_type": "markdown",
   "metadata": {},
   "source": [
    "### Handling ascii encoding error"
   ]
  },
  {
   "cell_type": "code",
   "execution_count": 44,
   "metadata": {},
   "outputs": [],
   "source": [
    "varied_strings = np.array(\n",
    "                          [\"我们今天心情好\"]*1000000 +\n",
    "                          [\"we are in good mood\"]*1000000\n",
    "                         )"
   ]
  },
  {
   "cell_type": "code",
   "execution_count": 41,
   "metadata": {},
   "outputs": [],
   "source": [
    "def pandas_apply(example):\n",
    "    df = pd.DataFrame(example, columns=[\"A\"])\n",
    "    f = lambda x: x.encode(\"ascii\", errors=\"ignore\")\n",
    "    return df[\"A\"].apply(f)\n",
    "\n",
    "def numpy_char(example):\n",
    "    return np.char.encode(example, encoding=\"ascii\", errors=\"ignore\")"
   ]
  },
  {
   "cell_type": "code",
   "execution_count": 42,
   "metadata": {},
   "outputs": [
    {
     "name": "stdout",
     "output_type": "stream",
     "text": [
      "pandas apply\n",
      "0.7092790603637695\n"
     ]
    }
   ],
   "source": [
    "print(\"pandas apply\")\n",
    "t0 = time.time()\n",
    "pandas_apply(example)\n",
    "print(time.time()-t0)"
   ]
  },
  {
   "cell_type": "code",
   "execution_count": 43,
   "metadata": {},
   "outputs": [
    {
     "name": "stdout",
     "output_type": "stream",
     "text": [
      "numpy char\n",
      "0.9797930717468262\n"
     ]
    }
   ],
   "source": [
    "print(\"numpy char\")\n",
    "t0 = time.time()\n",
    "numpy_char(example)\n",
    "print(time.time()-t0)"
   ]
  },
  {
   "cell_type": "code",
   "execution_count": null,
   "metadata": {},
   "outputs": [],
   "source": []
  }
 ],
 "metadata": {
  "kernelspec": {
   "display_name": "Python 3",
   "language": "python",
   "name": "python3"
  },
  "language_info": {
   "codemirror_mode": {
    "name": "ipython",
    "version": 3
   },
   "file_extension": ".py",
   "mimetype": "text/x-python",
   "name": "python",
   "nbconvert_exporter": "python",
   "pygments_lexer": "ipython3",
   "version": "3.6.5"
  }
 },
 "nbformat": 4,
 "nbformat_minor": 2
}
