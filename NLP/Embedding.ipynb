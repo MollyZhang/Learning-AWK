{
 "cells": [
  {
   "cell_type": "code",
   "execution_count": 1,
   "metadata": {
    "collapsed": true
   },
   "outputs": [],
   "source": [
    "import torch.nn as nn\n",
    "import torch"
   ]
  },
  {
   "cell_type": "markdown",
   "metadata": {},
   "source": [
    "### Random embedding"
   ]
  },
  {
   "cell_type": "code",
   "execution_count": 3,
   "metadata": {
    "collapsed": true
   },
   "outputs": [],
   "source": [
    "embedding = nn.Embedding(10,3)"
   ]
  },
  {
   "cell_type": "code",
   "execution_count": 4,
   "metadata": {},
   "outputs": [
    {
     "data": {
      "text/plain": [
       "Embedding(10, 3)"
      ]
     },
     "execution_count": 4,
     "metadata": {},
     "output_type": "execute_result"
    }
   ],
   "source": [
    "embedding"
   ]
  },
  {
   "cell_type": "code",
   "execution_count": 5,
   "metadata": {},
   "outputs": [
    {
     "data": {
      "text/plain": [
       "Parameter containing:\n",
       "tensor([[ 1.6934,  1.7323, -0.2495],\n",
       "        [-0.6647,  0.6464, -0.0640],\n",
       "        [ 1.1118, -1.1743,  0.2685],\n",
       "        [-0.0335, -0.1774,  1.1351],\n",
       "        [ 0.1263,  0.1018,  1.1946],\n",
       "        [ 1.0600,  0.3789,  0.1963],\n",
       "        [ 1.1849, -1.4400, -0.6275],\n",
       "        [ 1.3810, -0.2324, -0.8808],\n",
       "        [ 2.4278,  0.0407,  1.3464],\n",
       "        [ 0.8789,  0.2496,  0.9578]], requires_grad=True)"
      ]
     },
     "execution_count": 5,
     "metadata": {},
     "output_type": "execute_result"
    }
   ],
   "source": [
    "embedding.weight"
   ]
  },
  {
   "cell_type": "code",
   "execution_count": 6,
   "metadata": {
    "collapsed": true
   },
   "outputs": [],
   "source": [
    "input = torch.LongTensor([[1,2,4,5],[4,3,2,9]])"
   ]
  },
  {
   "cell_type": "code",
   "execution_count": 7,
   "metadata": {},
   "outputs": [
    {
     "data": {
      "text/plain": [
       "tensor([[1, 2, 4, 5],\n",
       "        [4, 3, 2, 9]])"
      ]
     },
     "execution_count": 7,
     "metadata": {},
     "output_type": "execute_result"
    }
   ],
   "source": [
    "input"
   ]
  },
  {
   "cell_type": "code",
   "execution_count": 8,
   "metadata": {},
   "outputs": [
    {
     "data": {
      "text/plain": [
       "tensor([[[-0.6647,  0.6464, -0.0640],\n",
       "         [ 1.1118, -1.1743,  0.2685],\n",
       "         [ 0.1263,  0.1018,  1.1946],\n",
       "         [ 1.0600,  0.3789,  0.1963]],\n",
       "\n",
       "        [[ 0.1263,  0.1018,  1.1946],\n",
       "         [-0.0335, -0.1774,  1.1351],\n",
       "         [ 1.1118, -1.1743,  0.2685],\n",
       "         [ 0.8789,  0.2496,  0.9578]]], grad_fn=<EmbeddingBackward>)"
      ]
     },
     "execution_count": 8,
     "metadata": {},
     "output_type": "execute_result"
    }
   ],
   "source": [
    "embedding(input)"
   ]
  },
  {
   "cell_type": "code",
   "execution_count": 9,
   "metadata": {},
   "outputs": [
    {
     "data": {
      "text/plain": [
       "torch.Size([2, 4, 3])"
      ]
     },
     "execution_count": 9,
     "metadata": {},
     "output_type": "execute_result"
    }
   ],
   "source": [
    "embedding(input).shape"
   ]
  },
  {
   "cell_type": "markdown",
   "metadata": {},
   "source": [
    "### pretrained"
   ]
  },
  {
   "cell_type": "code",
   "execution_count": 10,
   "metadata": {
    "collapsed": true
   },
   "outputs": [],
   "source": [
    "ptrain_emb = nn.Embedding.from_pretrained(\n",
    "    torch.FloatTensor([[1,2,3],[3,3,3]]))"
   ]
  },
  {
   "cell_type": "code",
   "execution_count": 11,
   "metadata": {},
   "outputs": [
    {
     "data": {
      "text/plain": [
       "Embedding(2, 3)"
      ]
     },
     "execution_count": 11,
     "metadata": {},
     "output_type": "execute_result"
    }
   ],
   "source": [
    "ptrain_emb"
   ]
  },
  {
   "cell_type": "code",
   "execution_count": 12,
   "metadata": {},
   "outputs": [
    {
     "data": {
      "text/plain": [
       "tensor([[1., 2., 3.]])"
      ]
     },
     "execution_count": 12,
     "metadata": {},
     "output_type": "execute_result"
    }
   ],
   "source": [
    "ptrain_emb(torch.LongTensor([0]))"
   ]
  },
  {
   "cell_type": "markdown",
   "metadata": {},
   "source": [
    "### EmbeddingBag and offsets\n",
    "input is 1D of shape (N), it will be treated as a concatenation of multiple bags (sequences).\n",
    "offsets is required to be a 1D tensor containing the starting index positions of each bag in input. Therefore, for offsets of shape (B), input will be viewed as having B bags"
   ]
  },
  {
   "cell_type": "code",
   "execution_count": 16,
   "metadata": {},
   "outputs": [],
   "source": [
    "embedding_sum = nn.EmbeddingBag.from_pretrained(\n",
    "    embedding.weight, mode=\"max\")"
   ]
  },
  {
   "cell_type": "code",
   "execution_count": 17,
   "metadata": {},
   "outputs": [
    {
     "data": {
      "text/plain": [
       "Parameter containing:\n",
       "tensor([[ 1.6934,  1.7323, -0.2495],\n",
       "        [-0.6647,  0.6464, -0.0640],\n",
       "        [ 1.1118, -1.1743,  0.2685],\n",
       "        [-0.0335, -0.1774,  1.1351],\n",
       "        [ 0.1263,  0.1018,  1.1946],\n",
       "        [ 1.0600,  0.3789,  0.1963],\n",
       "        [ 1.1849, -1.4400, -0.6275],\n",
       "        [ 1.3810, -0.2324, -0.8808],\n",
       "        [ 2.4278,  0.0407,  1.3464],\n",
       "        [ 0.8789,  0.2496,  0.9578]])"
      ]
     },
     "execution_count": 17,
     "metadata": {},
     "output_type": "execute_result"
    }
   ],
   "source": [
    "embedding_sum.weight"
   ]
  },
  {
   "cell_type": "code",
   "execution_count": 28,
   "metadata": {
    "collapsed": true
   },
   "outputs": [],
   "source": [
    "input = torch.LongTensor([0,1,2,3,4,5])\n",
    "offsets = torch.LongTensor([0,1])"
   ]
  },
  {
   "cell_type": "code",
   "execution_count": 29,
   "metadata": {},
   "outputs": [
    {
     "data": {
      "text/plain": [
       "tensor([[ 1.6934,  1.7323, -0.2495],\n",
       "        [ 1.1118,  0.6464,  1.1946]])"
      ]
     },
     "execution_count": 29,
     "metadata": {},
     "output_type": "execute_result"
    }
   ],
   "source": [
    "embedding_sum(input, offsets)"
   ]
  },
  {
   "cell_type": "code",
   "execution_count": null,
   "metadata": {
    "collapsed": true
   },
   "outputs": [],
   "source": []
  }
 ],
 "metadata": {
  "kernelspec": {
   "display_name": "Python 3",
   "language": "python",
   "name": "python3"
  },
  "language_info": {
   "codemirror_mode": {
    "name": "ipython",
    "version": 3
   },
   "file_extension": ".py",
   "mimetype": "text/x-python",
   "name": "python",
   "nbconvert_exporter": "python",
   "pygments_lexer": "ipython3",
   "version": "3.6.2"
  }
 },
 "nbformat": 4,
 "nbformat_minor": 2
}
